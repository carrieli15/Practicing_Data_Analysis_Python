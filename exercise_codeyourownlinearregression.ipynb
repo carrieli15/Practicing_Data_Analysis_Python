{
 "cells": [
  {
   "cell_type": "markdown",
   "metadata": {},
   "source": [
    "# Coding Your Own Linear Regression Model\n",
    "\n",
    "One task that you will almost certainly be required to do other data science courses (especially if you are a MIDS student) is to write up some of your statistical / machine learning models from scratch. This can be a very valuable exercise, as it ensures that you understand what is actually going on behind the scenes of the models you use ever day, and that you don't just think of them as \"black boxes\". \n",
    "\n",
    "To get a little practice doing this, today you will be coding up your own linear regression model! \n",
    "\n",
    "(If you are using this site but aren't actually in this class, you are welcome to skip this exercise if you'd like -- this is more about practicing Python in anticipation of the requirements of other courses than developing your applied data science skills.) \n",
    "\n",
    "There are, broadly speaking, two approaches you can take to coding up your own model: \n",
    "\n",
    "1. you can write the model by defining a new function, or \n",
    "2. you can write the model by defining a new class with associated methods (making a model that works the way a model works in `scikit-learn`). \n",
    "\n",
    "Whether you do 1 or 2 is very much a matter of choice and style. Approach one, for example, is more consistent with what is called a *functional* style of programming, while approach two is more consistent with an *object-oriented* style of programming. Python can readily support both approaches, so either would work fine. \n",
    "\n",
    "In these exercises, however, I will ask you to use approach number 2 as this *tends* to be the more difficult approach, and so practicing approach 2 will be extra useful in preparing you for other classes (HA! Pun...). In particular, our goal is to implement a linear regression model that has the same \"initialize-fit-predict-score\" API (application programming interface -- a fancy name for the methods a class supports) as `scikit-learn` models. That means your model should be able to do all of the following:\n",
    "\n",
    "1. **Initialize** a new model. \n",
    "2. **Fit** a linear model when given a numpy vector (`y`) and a numpy matrix (`X`) with the syntax `my_model.fit(X, y)`. \n",
    "3. **Predict** values when given a new `numpy` matrix (`X_test`) with the syntax `my_model.predict(X_test)`. \n",
    "4. Return the **model coefficients** through the property `my_model.coefficients` (not quite what is used in `sklearn`, but let's use that interface). \n",
    "\n",
    "Also, bear in mind that throughout these exercises, we'll be working in `numpy` instead of `pandas`, just as we do in `scikit-learn`. So assume that before using your model, your user has already converted their data from `pandas` into `numpy` arrays. "
   ]
  },
  {
   "cell_type": "code",
   "execution_count": 1,
   "metadata": {},
   "outputs": [],
   "source": [
    "import pandas as pd\n",
    "\n",
    "pd.set_option(\"mode.copy_on_write\", True)\n",
    "results = {}"
   ]
  },
  {
   "cell_type": "markdown",
   "metadata": {},
   "source": [
    "**(1)** Define a new Class called `MyLinearModel` with methods for `__init__`, `fit`, `predict`, and an attribute for `coefficients`. For now, we don't need any initialization *arguments*, just an `__init__` function. \n",
    "\n",
    "As you get your code outline going, start by just having each method `pass`:\n",
    "\n",
    "```python\n",
    "def my_method(self):\n",
    "    pass\n",
    "```\n",
    "\n",
    "This will allow your methods to run without errors (they just don't do anything). Then we can double back to each method to get them working one by one."
   ]
  },
  {
   "cell_type": "code",
   "execution_count": 2,
   "metadata": {},
   "outputs": [],
   "source": [
    "class MyLinearModel:\n",
    "    def __init__(self):\n",
    "        self.coefficients = None\n",
    "\n",
    "    def fit(self, X, y):\n",
    "        pass\n",
    "\n",
    "    def predict(self, X_test):\n",
    "        pass"
   ]
  },
  {
   "cell_type": "markdown",
   "metadata": {},
   "source": [
    "**(2)** Now define your `fit` method. This is the method that should actually run your linear regression. In case you've forgotten your linear algebra, remember that for linear regressions, $\\beta = (X'X)^{-1}X'Y$, a fact you can see explained in detail on page four [here](https://www.stat.purdue.edu/~boli/stat512/lectures/topic3.pdf).\n",
    "\n",
    "Note that once you have written the code to do a linear regression, you'll need to put your outputs (your coefficents) somewhere. I recommend making an attribute for your class where you can store your coefficients. \n",
    "\n",
    "(As a reminder: the normal multiply operator (`*`) in `numpy` implies scalar multiplication. Use `@` for matrix multiplication). \n",
    "\n",
    "**HINT:** Remember that linear regressions require a vector of 1s in the `X` matrix. As the package writer, you get to decide whether users are expected to provide a matrix `X` that already has a vector of 1s, or whether you expect the user to provide a matrix `X` that doesn't have a vector of 1s (in which case you will need to add a vector of 1s before you fit the model)."
   ]
  },
  {
   "cell_type": "code",
   "execution_count": 3,
   "metadata": {},
   "outputs": [],
   "source": [
    "import numpy as np\n",
    "\n",
    "\n",
    "class MyLinearModel:\n",
    "    def __init__(self):\n",
    "        self.coefficients = None\n",
    "\n",
    "    def fit(self, X, y):\n",
    "        # add intercept term\n",
    "        intercept = np.ones((X.shape[0], 1))\n",
    "        X = np.hstack((intercept, X))\n",
    "\n",
    "        # using the formula beta = (X'X)^-1 X'Y\n",
    "        X_transpose = X.T\n",
    "        self.coefficients = np.linalg.inv(X_transpose @ X) @ X_transpose @ y\n",
    "\n",
    "    def predict(self, X_test):\n",
    "        pass"
   ]
  },
  {
   "cell_type": "markdown",
   "metadata": {},
   "source": [
    "**(3)** As you write code, it is good to test your code as you work. With that in mind, let's create some toy data. First, create a 100 x 2 matrix where each column is normally distributed. Then create a vector `y` that is a linear combination of those two columns **plus** a vector of normally distributed noise **and** a constant term. \n",
    "\n",
    "In other words, we want to create data where we *know* exactly what coefficients we should see so when we test our regression, we know if the results are accurate!"
   ]
  },
  {
   "cell_type": "code",
   "execution_count": 4,
   "metadata": {},
   "outputs": [],
   "source": [
    "# random seed\n",
    "np.random.seed(0)\n",
    "X = np.random.normal(size=(100, 2))\n",
    "\n",
    "# coefficients for linear combination (arbitrary choice)\n",
    "true_coefficients = np.array([3, 5])\n",
    "constant_term = 2\n",
    "\n",
    "# Generate a vector y as a linear combination of X's columns\n",
    "noise = np.random.normal(scale=1, size=100)\n",
    "y = X @ true_coefficients + constant_term + noise"
   ]
  },
  {
   "cell_type": "markdown",
   "metadata": {},
   "source": [
    "**(4)** Now test whether you `fit` method generates the correct coefficients. Remember the choice you made in Question 2 about whether your package expects the users' `X` matrix to include a vector of 1s when you test!"
   ]
  },
  {
   "cell_type": "code",
   "execution_count": 5,
   "metadata": {},
   "outputs": [
    {
     "name": "stdout",
     "output_type": "stream",
     "text": [
      "Fitted Coefficients: [1.94858887 3.1104649  4.9459629 ]\n",
      "Expected Coefficients: [2, 3, 5] (including the constant term)\n"
     ]
    }
   ],
   "source": [
    "class MyLinearModel:\n",
    "    def __init__(self):\n",
    "        self.coefficients = None\n",
    "\n",
    "    def fit(self, X, y):\n",
    "        intercept = np.ones((X.shape[0], 1))\n",
    "        X = np.hstack((intercept, X))\n",
    "        X_transpose = X.T\n",
    "        self.coefficients = np.linalg.inv(X_transpose @ X) @ X_transpose @ y\n",
    "\n",
    "    def predict(self, X_test):\n",
    "        pass\n",
    "\n",
    "\n",
    "# create an instance of MyLinearModel\n",
    "model = MyLinearModel()\n",
    "model.fit(X, y)\n",
    "\n",
    "# Retrieve the fitted coefficients\n",
    "fitted_coefficients = model.coefficients\n",
    "\n",
    "print(\"Fitted Coefficients:\", fitted_coefficients)\n",
    "print(\"Expected Coefficients: [2, 3, 5] (including the constant term)\")"
   ]
  },
  {
   "cell_type": "markdown",
   "metadata": {},
   "source": [
    "**(5)** Now let's make the statisticians proud, and in addition to storing the coefficients, let's store the standard errors for our estimated coefficients as another attribute. Recall that the simplest method of calculating the variance covariance matrix for $\\beta$ is using the formula $\\sigma^2 (X'X)^{-1}$, where $\\sigma^2$ is the variance of the error terms of your regression. The standard errors for your coefficient estimates will be the diagonal values of that matrix. See page six [here](https://www.stat.purdue.edu/~boli/stat512/lectures/topic3.pdf) for a full derivation. "
   ]
  },
  {
   "cell_type": "code",
   "execution_count": 6,
   "metadata": {},
   "outputs": [
    {
     "name": "stdout",
     "output_type": "stream",
     "text": [
      "Coefficients: [1.94858887 3.1104649  4.9459629 ]\n",
      "Standard Errors: [0.09674321 0.09376987 0.09433688]\n"
     ]
    }
   ],
   "source": [
    "class MyLinearModel:\n",
    "    def __init__(self):\n",
    "        self.coefficients = None\n",
    "        self.std_errors = None\n",
    "\n",
    "    def fit(self, X, y):\n",
    "        intercept = np.ones((X.shape[0], 1))\n",
    "        X = np.hstack((intercept, X))\n",
    "\n",
    "        X_transpose = X.T\n",
    "        self.coefficients = np.linalg.inv(X_transpose @ X) @ X_transpose @ y\n",
    "\n",
    "        # Calculating the variance of the error terms\n",
    "        y_pred = X @ self.coefficients\n",
    "        residuals = y - y_pred\n",
    "        error_variance = np.sum(residuals**2) / (X.shape[0] - X.shape[1])\n",
    "\n",
    "        # Calculating the variance-covariance matrix of coefficients\n",
    "        var_cov_matrix = error_variance * np.linalg.inv(X_transpose @ X)\n",
    "\n",
    "        # Standard errors are the square roots of the diagonal elements\n",
    "        self.std_errors = np.sqrt(np.diag(var_cov_matrix))\n",
    "\n",
    "    def predict(self, X_test):\n",
    "        pass\n",
    "\n",
    "\n",
    "# test\n",
    "model = MyLinearModel()\n",
    "model.fit(X, y)\n",
    "\n",
    "print(\"Coefficients:\", model.coefficients)\n",
    "print(\"Standard Errors:\", model.std_errors)"
   ]
  },
  {
   "cell_type": "markdown",
   "metadata": {},
   "source": [
    "**(6)** Now let's also add an R-squared attribute to the model."
   ]
  },
  {
   "cell_type": "code",
   "execution_count": 7,
   "metadata": {},
   "outputs": [
    {
     "name": "stdout",
     "output_type": "stream",
     "text": [
      "Coefficients: [1.94858887 3.1104649  4.9459629 ]\n",
      "Standard Errors: [0.09674321 0.09376987 0.09433688]\n",
      "R-squared: 0.974901544340798\n"
     ]
    }
   ],
   "source": [
    "class MyLinearModel:\n",
    "    def __init__(self):\n",
    "        self.coefficients = None\n",
    "        self.std_errors = None\n",
    "        self.r_squared = None\n",
    "\n",
    "    def fit(self, X, y):\n",
    "        intercept = np.ones((X.shape[0], 1))\n",
    "        X = np.hstack((intercept, X))\n",
    "\n",
    "        X_transpose = X.T\n",
    "        self.coefficients = np.linalg.inv(X_transpose @ X) @ X_transpose @ y\n",
    "\n",
    "        y_pred = X @ self.coefficients\n",
    "        residuals = y - y_pred\n",
    "\n",
    "        error_variance = np.sum(residuals**2) / (X.shape[0] - X.shape[1])\n",
    "\n",
    "        var_cov_matrix = error_variance * np.linalg.inv(X_transpose @ X)\n",
    "        self.std_errors = np.sqrt(np.diag(var_cov_matrix))\n",
    "\n",
    "        # R-squared\n",
    "        total_variance = np.sum((y - y.mean()) ** 2)\n",
    "        self.r_squared = 1 - (np.sum(residuals**2) / total_variance)\n",
    "\n",
    "    def predict(self, X_test):\n",
    "        pass\n",
    "\n",
    "\n",
    "# test\n",
    "model = MyLinearModel()\n",
    "model.fit(X, y)\n",
    "\n",
    "print(\"Coefficients:\", model.coefficients)\n",
    "print(\"Standard Errors:\", model.std_errors)\n",
    "print(\"R-squared:\", model.r_squared)"
   ]
  },
  {
   "cell_type": "markdown",
   "metadata": {},
   "source": [
    "**(7)** Now we'll go ahead and cheat a little. Use `statsmodels` to fit your model with your toy data to ensure your standard errors and r-squared are correct!"
   ]
  },
  {
   "cell_type": "code",
   "execution_count": 12,
   "metadata": {},
   "outputs": [],
   "source": [
    "import statsmodels.api as sm"
   ]
  },
  {
   "cell_type": "code",
   "execution_count": 15,
   "metadata": {},
   "outputs": [
    {
     "name": "stdout",
     "output_type": "stream",
     "text": [
      "Statsmodels Coefficients: [1.94858887 3.1104649  4.9459629 ]\n",
      "Statsmodels Standard Errors: [0.09674321 0.09376987 0.09433688]\n",
      "Statsmodels R-squared: 0.974901544340798\n"
     ]
    }
   ],
   "source": [
    "X_with_intercept = sm.add_constant(X)\n",
    "statsmodel = sm.OLS(y, X_with_intercept).fit()\n",
    "\n",
    "print(\"Statsmodels Coefficients:\", statsmodel.params)\n",
    "print(\"Statsmodels Standard Errors:\", statsmodel.bse)\n",
    "print(\"Statsmodels R-squared:\", statsmodel.rsquared)"
   ]
  },
  {
   "cell_type": "markdown",
   "metadata": {},
   "source": [
    "**(8)** Now implement `predict`! Then test it against your original `X` data -- do you get back something very close to your true `y`?"
   ]
  },
  {
   "cell_type": "code",
   "execution_count": 23,
   "metadata": {},
   "outputs": [],
   "source": [
    "class MyLinearModel:\n",
    "    def __init__(self):\n",
    "        self.coefficients = None\n",
    "        self.std_errors = None\n",
    "        self.r_squared = None\n",
    "\n",
    "    def fit(self, X, y):\n",
    "        intercept = np.ones((X.shape[0], 1))\n",
    "        X = np.hstack((intercept, X))\n",
    "\n",
    "        X_transpose = X.T\n",
    "        self.coefficients = np.linalg.inv(X_transpose @ X) @ X_transpose @ y\n",
    "\n",
    "        y_pred = X @ self.coefficients\n",
    "        residuals = y - y_pred\n",
    "\n",
    "        error_variance = np.sum(residuals**2) / (X.shape[0] - X.shape[1])\n",
    "\n",
    "        var_cov_matrix = error_variance * np.linalg.inv(X_transpose @ X)\n",
    "        self.std_errors = np.sqrt(np.diag(var_cov_matrix))\n",
    "\n",
    "        # R-squared\n",
    "        total_variance = np.sum((y - y.mean()) ** 2)\n",
    "        self.r_squared = 1 - (np.sum(residuals**2) / total_variance)\n",
    "\n",
    "    def predict(self, X_test):\n",
    "        intercept = np.ones((X_test.shape[0], 1))\n",
    "        X_test = np.hstack((intercept, X_test))\n",
    "        return X_test @ self.coefficients"
   ]
  },
  {
   "cell_type": "code",
   "execution_count": 24,
   "metadata": {},
   "outputs": [
    {
     "name": "stdout",
     "output_type": "stream",
     "text": [
      "True y values: [3.3558587  2.73218315 2.67024507 3.50671142 3.02784683 3.36308804\n",
      " 4.00782112 0.41221514 2.41575278 4.25078624 4.25469084 3.11006914\n",
      " 2.27511489 3.15240759 2.37976835 2.88368506 2.70328557 1.82538353\n",
      " 2.97156915 4.00111651 1.9497707  1.50698383 3.29989379 0.80929193\n",
      " 1.68658962 2.31870295 2.21852027 0.67934175 2.1286146  1.50569256\n",
      " 0.53862626 1.73242454 1.42538394 2.08759175 1.83489935 3.38557762\n",
      " 3.76413045 1.47928119 0.97853127 0.93130892 1.9559344  2.28806177\n",
      " 2.14569498 1.46197043 3.9028634  2.61543113 2.5225433  1.19391264\n",
      " 1.29736166 1.51027088 2.16322438 4.28315059 2.25397075 2.89102454\n",
      " 3.39542819 3.4651986  2.3699022  2.77047095 3.41158039 3.80006052\n",
      " 2.95277966 3.88205304 2.89282063 0.93888513 2.0949854  2.48773878\n",
      " 1.11943551 2.96069625 2.95417326 2.60478805 2.91142946 3.57071802\n",
      " 3.66432212 2.93510944 4.28261753 2.85394279 2.11737841 2.83326966\n",
      " 3.20632189 1.09998739 2.90493405 3.83625967 4.56107891 1.17105317\n",
      " 1.91112645 1.16536    0.44227038 2.22939038 3.44404594 1.33674521\n",
      " 2.30905667 1.9760975  3.62898944 2.6943531  2.44818553 1.36839457\n",
      " 3.2196985  2.91854517 1.28705258 1.48878311]\n",
      "Predicted y values: [3.23336471 2.82754235 2.78029211 3.54592685 3.04915353 3.14939817\n",
      " 3.90285111 0.41213976 2.55134723 4.14720055 4.32680776 3.25863215\n",
      " 2.16461278 3.12884637 2.27811278 2.85427443 2.61128832 1.90296207\n",
      " 3.06217473 3.90619193 2.02752871 1.55782726 3.33045655 0.81040704\n",
      " 1.72106832 2.44463811 2.2524999  0.90470506 2.05044892 1.65819273\n",
      " 0.65406449 1.71108773 1.50350077 1.91002889 1.94019802 3.33008248\n",
      " 3.73965861 1.57614199 0.92595337 0.94764057 1.87787524 2.21647506\n",
      " 1.9174524  1.31773975 3.92942774 2.63921266 2.42052767 1.12804102\n",
      " 1.21985528 1.64809302 2.14901058 4.3399084  2.22852827 2.88874362\n",
      " 3.30916843 3.42836942 2.27378063 2.79504369 3.48163307 3.81697565\n",
      " 2.93649714 3.81673499 2.66206455 0.95463488 2.17474496 2.5087094\n",
      " 1.17235235 2.90144836 3.09715167 2.58338896 2.87009645 3.54300721\n",
      " 3.7032178  2.96879865 4.40897997 2.91092162 2.17800834 2.80034453\n",
      " 3.30065761 1.01616426 2.73854592 4.02648964 4.49084797 1.11537795\n",
      " 1.95570861 1.19448644 0.45853769 2.23744676 3.47442005 1.48586093\n",
      " 2.20009096 1.85568231 3.6837665  2.83135652 2.37732688 1.42106816\n",
      " 3.21180909 2.93185186 1.22040661 1.42956953]\n"
     ]
    }
   ],
   "source": [
    "np.random.seed(0)\n",
    "X = np.random.rand(100, 2)\n",
    "y = 2 * X[:, 0] + 3 * X[:, 1] + np.random.normal(0, 0.1, 100)\n",
    "\n",
    "# Test your model\n",
    "model = MyLinearModel()\n",
    "model.fit(X, y)\n",
    "\n",
    "# Predict using your model\n",
    "y_pred = model.predict(X)\n",
    "\n",
    "# Compare predicted values with true y\n",
    "print(\"True y values:\", y)\n",
    "print(\"Predicted y values:\", y_pred)"
   ]
  },
  {
   "cell_type": "markdown",
   "metadata": {},
   "source": [
    "**(9)** Finally, create the *option* of fitting the model with or without a constant term. In other words, create an option so that, if the user passes a numpy array *without* a constant term, your code will add a vector of 1s before fitting the model. As in `scikit-learn`, make this an option you set during initialization. "
   ]
  },
  {
   "cell_type": "code",
   "execution_count": 26,
   "metadata": {},
   "outputs": [],
   "source": [
    "class MyLinearModel:\n",
    "    def __init__(self, fit_intercept=True):\n",
    "        self.coefficients = None\n",
    "        self.std_errors = None\n",
    "        self.r_squared = None\n",
    "        self.fit_intercept = fit_intercept\n",
    "\n",
    "    def fit(self, X, y):\n",
    "        if self.fit_intercept:\n",
    "            X = sm.add_constant(X)\n",
    "\n",
    "        X_transpose = X.T\n",
    "        self.coefficients = np.linalg.inv(X_transpose @ X) @ X_transpose @ y\n",
    "\n",
    "        y_pred = X @ self.coefficients\n",
    "        residuals = y - y_pred\n",
    "\n",
    "        error_variance = np.sum(residuals**2) / (X.shape[0] - X.shape[1])\n",
    "\n",
    "        var_cov_matrix = error_variance * np.linalg.inv(X_transpose @ X)\n",
    "        self.std_errors = np.sqrt(np.diag(var_cov_matrix))\n",
    "\n",
    "        # R-squared\n",
    "        total_variance = np.sum((y - y.mean()) ** 2)\n",
    "        self.r_squared = 1 - (np.sum(residuals**2) / total_variance)\n",
    "\n",
    "        return y_pred\n",
    "\n",
    "    def predict(self, X_test):\n",
    "        if self.fit_intercept:\n",
    "            X_test = sm.add_constant(X_test)\n",
    "        return X_test @ self.coefficients"
   ]
  },
  {
   "cell_type": "code",
   "execution_count": 27,
   "metadata": {},
   "outputs": [
    {
     "name": "stdout",
     "output_type": "stream",
     "text": [
      "True y values: [3.3558587  2.73218315 2.67024507 3.50671142 3.02784683 3.36308804\n",
      " 4.00782112 0.41221514 2.41575278 4.25078624 4.25469084 3.11006914\n",
      " 2.27511489 3.15240759 2.37976835 2.88368506 2.70328557 1.82538353\n",
      " 2.97156915 4.00111651 1.9497707  1.50698383 3.29989379 0.80929193\n",
      " 1.68658962 2.31870295 2.21852027 0.67934175 2.1286146  1.50569256\n",
      " 0.53862626 1.73242454 1.42538394 2.08759175 1.83489935 3.38557762\n",
      " 3.76413045 1.47928119 0.97853127 0.93130892 1.9559344  2.28806177\n",
      " 2.14569498 1.46197043 3.9028634  2.61543113 2.5225433  1.19391264\n",
      " 1.29736166 1.51027088 2.16322438 4.28315059 2.25397075 2.89102454\n",
      " 3.39542819 3.4651986  2.3699022  2.77047095 3.41158039 3.80006052\n",
      " 2.95277966 3.88205304 2.89282063 0.93888513 2.0949854  2.48773878\n",
      " 1.11943551 2.96069625 2.95417326 2.60478805 2.91142946 3.57071802\n",
      " 3.66432212 2.93510944 4.28261753 2.85394279 2.11737841 2.83326966\n",
      " 3.20632189 1.09998739 2.90493405 3.83625967 4.56107891 1.17105317\n",
      " 1.91112645 1.16536    0.44227038 2.22939038 3.44404594 1.33674521\n",
      " 2.30905667 1.9760975  3.62898944 2.6943531  2.44818553 1.36839457\n",
      " 3.2196985  2.91854517 1.28705258 1.48878311]\n",
      "Predicted y values (with intercept): [3.23336471 2.82754235 2.78029211 3.54592685 3.04915353 3.14939817\n",
      " 3.90285111 0.41213976 2.55134723 4.14720055 4.32680776 3.25863215\n",
      " 2.16461278 3.12884637 2.27811278 2.85427443 2.61128832 1.90296207\n",
      " 3.06217473 3.90619193 2.02752871 1.55782726 3.33045655 0.81040704\n",
      " 1.72106832 2.44463811 2.2524999  0.90470506 2.05044892 1.65819273\n",
      " 0.65406449 1.71108773 1.50350077 1.91002889 1.94019802 3.33008248\n",
      " 3.73965861 1.57614199 0.92595337 0.94764057 1.87787524 2.21647506\n",
      " 1.9174524  1.31773975 3.92942774 2.63921266 2.42052767 1.12804102\n",
      " 1.21985528 1.64809302 2.14901058 4.3399084  2.22852827 2.88874362\n",
      " 3.30916843 3.42836942 2.27378063 2.79504369 3.48163307 3.81697565\n",
      " 2.93649714 3.81673499 2.66206455 0.95463488 2.17474496 2.5087094\n",
      " 1.17235235 2.90144836 3.09715167 2.58338896 2.87009645 3.54300721\n",
      " 3.7032178  2.96879865 4.40897997 2.91092162 2.17800834 2.80034453\n",
      " 3.30065761 1.01616426 2.73854592 4.02648964 4.49084797 1.11537795\n",
      " 1.95570861 1.19448644 0.45853769 2.23744676 3.47442005 1.48586093\n",
      " 2.20009096 1.85568231 3.6837665  2.83135652 2.37732688 1.42106816\n",
      " 3.21180909 2.93185186 1.22040661 1.42956953]\n",
      "Predicted y values (without intercept): [3.23442229 2.82752511 2.77939562 3.54752882 3.05131113 3.15117606\n",
      " 3.90612206 0.40225629 2.54807948 4.15210548 4.33310094 3.25941506\n",
      " 2.16051052 3.1279213  2.27601414 2.8529667  2.60998501 1.89762066\n",
      " 3.06294376 3.91100181 2.02397053 1.55414651 3.33230358 0.80236057\n",
      " 1.71635347 2.44326723 2.25221729 0.8969532  2.04815814 1.6538911\n",
      " 0.64531026 1.70772776 1.4976086  1.90797319 1.9383075  3.33318807\n",
      " 3.74407167 1.57268899 0.91857    0.94038061 1.87367088 2.21231803\n",
      " 1.91438558 1.31258395 3.93281559 2.63743876 2.41729659 1.121329\n",
      " 1.21464465 1.64523428 2.14713465 4.34525316 2.22516061 2.88887796\n",
      " 3.30914276 3.42963527 2.27239074 2.79578125 3.48483411 3.82124875\n",
      " 2.93732566 3.82130976 2.66079182 0.94627067 2.17287933 2.50773738\n",
      " 1.1651555  2.90153342 3.0978786  2.58279377 2.87140998 3.54459286\n",
      " 3.70682081 2.96718771 4.41445978 2.90932632 2.17412867 2.79829232\n",
      " 3.30298134 1.00957454 2.73862993 4.03078139 4.49765171 1.10749597\n",
      " 1.95342842 1.18892856 0.44932678 2.23632425 3.47541877 1.48197824\n",
      " 2.19629068 1.85246171 3.68782823 2.83107838 2.37639187 1.41573332\n",
      " 3.21132287 2.93272371 1.21373701 1.42287798]\n"
     ]
    }
   ],
   "source": [
    "model_with_intercept = MyLinearModel(fit_intercept=True)\n",
    "y_pred_with_intercept = model_with_intercept.fit(X, y)\n",
    "\n",
    "model_without_intercept = MyLinearModel(fit_intercept=False)\n",
    "y_pred_without_intercept = model_without_intercept.fit(X, y)\n",
    "\n",
    "# Compare predicted values with true y\n",
    "print(\"True y values:\", y)\n",
    "print(\"Predicted y values (with intercept):\", y_pred_with_intercept)\n",
    "print(\"Predicted y values (without intercept):\", y_pred_without_intercept)"
   ]
  }
 ],
 "metadata": {
  "kernelspec": {
   "display_name": "Python 3",
   "language": "python",
   "name": "python3"
  },
  "language_info": {
   "codemirror_mode": {
    "name": "ipython",
    "version": 3
   },
   "file_extension": ".py",
   "mimetype": "text/x-python",
   "name": "python",
   "nbconvert_exporter": "python",
   "pygments_lexer": "ipython3",
   "version": "3.11.5"
  }
 },
 "nbformat": 4,
 "nbformat_minor": 4
}
