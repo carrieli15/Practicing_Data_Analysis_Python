{
    "cells": [
        {
            "cell_type": "markdown",
            "metadata": {},
            "source": [
                "# Cleaning Data Exercises\n",
                "\n",
                "In this exercise, we'll be returning to the American Community Survey data we used previously to measuring racial income inequality in the United States. In today's exercise, we'll be using it to measure the returns to education and how those returns vary by race and gender.\n",
                "\n",
                "<span style=\"color: #008080\">*Jiechen Li*</span>"
            ]
        },
        {
            "cell_type": "markdown",
            "metadata": {},
            "source": [
                "\n",
                "## Gradescope Autograding\n",
                "\n",
                "Please follow [all standard guidance](https://www.practicaldatascience.org/html/autograder_guidelines.html) for submitting this assignment to the Gradescope autograder, including storing your solutions in a dictionary called `results` and ensuring your notebook runs from the start to completion without any errors.\n",
                "\n",
                "For this assignment, please name your file `exercise_missing.ipynb` before uploading.\n",
                "\n",
                "You can check that you have answers for all questions in your `results` dictionary with this code:\n",
                "\n",
                "```python\n",
                "assert set(results.keys()) == {\n",
                "    \"ex5_age_young\",\n",
                "    \"ex5_age_old\",\n",
                "    \"ex7_avg_age\",\n",
                "    \"ex8_avg_age\",\n",
                "    \"ex9_num_college\",\n",
                "    \"ex11_share_male_w_degrees\",\n",
                "    \"ex11_share_female_w_degrees\",\n",
                "    \"ex12_comparing\",\n",
                "}\n",
                "```\n",
                "\n",
                "\n",
                "### Submission Limits\n",
                "\n",
                "Please remember that you are **only allowed three submissions to the autograder.** Your last submission (if you submit 3 or fewer times), or your third submission (if you submit more than 3 times) will determine your grade Submissions that error out will **not** count against this total."
            ]
        },
        {
            "cell_type": "markdown",
            "metadata": {},
            "source": [
                "## Exercises\n",
                "\n",
                "### Exercise 1\n",
                "\n",
                "For these cleaning exercises, we'll return to the ACS data we've used before one last time. We'll be working with `US_ACS_2017_10pct_sample.dta`. Import the data (please use url for the autograder)."
            ]
        },
        {
            "cell_type": "code",
            "execution_count": 3,
            "metadata": {},
            "outputs": [
                {
                    "name": "stdout",
                    "output_type": "stream",
                    "text": [
                        "Loading the American Community Survey data from URL:\n"
                    ]
                },
                {
                    "data": {
                        "text/html": [
                            "<div>\n",
                            "<style scoped>\n",
                            "    .dataframe tbody tr th:only-of-type {\n",
                            "        vertical-align: middle;\n",
                            "    }\n",
                            "\n",
                            "    .dataframe tbody tr th {\n",
                            "        vertical-align: top;\n",
                            "    }\n",
                            "\n",
                            "    .dataframe thead th {\n",
                            "        text-align: right;\n",
                            "    }\n",
                            "</style>\n",
                            "<table border=\"1\" class=\"dataframe\">\n",
                            "  <thead>\n",
                            "    <tr style=\"text-align: right;\">\n",
                            "      <th></th>\n",
                            "      <th>year</th>\n",
                            "      <th>datanum</th>\n",
                            "      <th>serial</th>\n",
                            "      <th>cbserial</th>\n",
                            "      <th>numprec</th>\n",
                            "      <th>subsamp</th>\n",
                            "      <th>hhwt</th>\n",
                            "      <th>hhtype</th>\n",
                            "      <th>cluster</th>\n",
                            "      <th>adjust</th>\n",
                            "      <th>...</th>\n",
                            "      <th>migcounty1</th>\n",
                            "      <th>migmet131</th>\n",
                            "      <th>vetdisab</th>\n",
                            "      <th>diffrem</th>\n",
                            "      <th>diffphys</th>\n",
                            "      <th>diffmob</th>\n",
                            "      <th>diffcare</th>\n",
                            "      <th>diffsens</th>\n",
                            "      <th>diffeye</th>\n",
                            "      <th>diffhear</th>\n",
                            "    </tr>\n",
                            "  </thead>\n",
                            "  <tbody>\n",
                            "    <tr>\n",
                            "      <th>0</th>\n",
                            "      <td>2017</td>\n",
                            "      <td>1</td>\n",
                            "      <td>177686</td>\n",
                            "      <td>2.017001e+12</td>\n",
                            "      <td>9</td>\n",
                            "      <td>64</td>\n",
                            "      <td>55</td>\n",
                            "      <td>female householder, no husband present</td>\n",
                            "      <td>2.017002e+12</td>\n",
                            "      <td>1.011189</td>\n",
                            "      <td>...</td>\n",
                            "      <td>0</td>\n",
                            "      <td>not in identifiable area</td>\n",
                            "      <td>n/a</td>\n",
                            "      <td>n/a</td>\n",
                            "      <td>n/a</td>\n",
                            "      <td>n/a</td>\n",
                            "      <td>n/a</td>\n",
                            "      <td>no vision or hearing difficulty</td>\n",
                            "      <td>no</td>\n",
                            "      <td>no</td>\n",
                            "    </tr>\n",
                            "    <tr>\n",
                            "      <th>1</th>\n",
                            "      <td>2017</td>\n",
                            "      <td>1</td>\n",
                            "      <td>1200045</td>\n",
                            "      <td>2.017001e+12</td>\n",
                            "      <td>6</td>\n",
                            "      <td>79</td>\n",
                            "      <td>25</td>\n",
                            "      <td>male householder, no wife present</td>\n",
                            "      <td>2.017012e+12</td>\n",
                            "      <td>1.011189</td>\n",
                            "      <td>...</td>\n",
                            "      <td>0</td>\n",
                            "      <td>not in identifiable area</td>\n",
                            "      <td>n/a</td>\n",
                            "      <td>no cognitive difficulty</td>\n",
                            "      <td>no ambulatory difficulty</td>\n",
                            "      <td>no independent living difficulty</td>\n",
                            "      <td>no</td>\n",
                            "      <td>no vision or hearing difficulty</td>\n",
                            "      <td>no</td>\n",
                            "      <td>no</td>\n",
                            "    </tr>\n",
                            "    <tr>\n",
                            "      <th>2</th>\n",
                            "      <td>2017</td>\n",
                            "      <td>1</td>\n",
                            "      <td>70831</td>\n",
                            "      <td>2.017000e+12</td>\n",
                            "      <td>1 person record</td>\n",
                            "      <td>36</td>\n",
                            "      <td>57</td>\n",
                            "      <td>male householder, living alone</td>\n",
                            "      <td>2.017001e+12</td>\n",
                            "      <td>1.011189</td>\n",
                            "      <td>...</td>\n",
                            "      <td>0</td>\n",
                            "      <td>not in identifiable area</td>\n",
                            "      <td>n/a</td>\n",
                            "      <td>has cognitive difficulty</td>\n",
                            "      <td>no ambulatory difficulty</td>\n",
                            "      <td>no independent living difficulty</td>\n",
                            "      <td>no</td>\n",
                            "      <td>no vision or hearing difficulty</td>\n",
                            "      <td>no</td>\n",
                            "      <td>no</td>\n",
                            "    </tr>\n",
                            "    <tr>\n",
                            "      <th>3</th>\n",
                            "      <td>2017</td>\n",
                            "      <td>1</td>\n",
                            "      <td>557128</td>\n",
                            "      <td>2.017001e+12</td>\n",
                            "      <td>2</td>\n",
                            "      <td>10</td>\n",
                            "      <td>98</td>\n",
                            "      <td>married-couple family household</td>\n",
                            "      <td>2.017006e+12</td>\n",
                            "      <td>1.011189</td>\n",
                            "      <td>...</td>\n",
                            "      <td>0</td>\n",
                            "      <td>not in identifiable area</td>\n",
                            "      <td>n/a</td>\n",
                            "      <td>no cognitive difficulty</td>\n",
                            "      <td>no ambulatory difficulty</td>\n",
                            "      <td>no independent living difficulty</td>\n",
                            "      <td>no</td>\n",
                            "      <td>no vision or hearing difficulty</td>\n",
                            "      <td>no</td>\n",
                            "      <td>no</td>\n",
                            "    </tr>\n",
                            "    <tr>\n",
                            "      <th>4</th>\n",
                            "      <td>2017</td>\n",
                            "      <td>1</td>\n",
                            "      <td>614890</td>\n",
                            "      <td>2.017001e+12</td>\n",
                            "      <td>4</td>\n",
                            "      <td>96</td>\n",
                            "      <td>54</td>\n",
                            "      <td>married-couple family household</td>\n",
                            "      <td>2.017006e+12</td>\n",
                            "      <td>1.011189</td>\n",
                            "      <td>...</td>\n",
                            "      <td>0</td>\n",
                            "      <td>not in identifiable area</td>\n",
                            "      <td>n/a</td>\n",
                            "      <td>n/a</td>\n",
                            "      <td>n/a</td>\n",
                            "      <td>n/a</td>\n",
                            "      <td>n/a</td>\n",
                            "      <td>no vision or hearing difficulty</td>\n",
                            "      <td>no</td>\n",
                            "      <td>no</td>\n",
                            "    </tr>\n",
                            "  </tbody>\n",
                            "</table>\n",
                            "<p>5 rows × 104 columns</p>\n",
                            "</div>"
                        ],
                        "text/plain": [
                            "   year  datanum   serial      cbserial          numprec subsamp  hhwt  \\\n",
                            "0  2017        1   177686  2.017001e+12                9      64    55   \n",
                            "1  2017        1  1200045  2.017001e+12                6      79    25   \n",
                            "2  2017        1    70831  2.017000e+12  1 person record      36    57   \n",
                            "3  2017        1   557128  2.017001e+12                2      10    98   \n",
                            "4  2017        1   614890  2.017001e+12                4      96    54   \n",
                            "\n",
                            "                                   hhtype       cluster    adjust  ...  \\\n",
                            "0  female householder, no husband present  2.017002e+12  1.011189  ...   \n",
                            "1       male householder, no wife present  2.017012e+12  1.011189  ...   \n",
                            "2          male householder, living alone  2.017001e+12  1.011189  ...   \n",
                            "3         married-couple family household  2.017006e+12  1.011189  ...   \n",
                            "4         married-couple family household  2.017006e+12  1.011189  ...   \n",
                            "\n",
                            "   migcounty1                 migmet131 vetdisab                   diffrem  \\\n",
                            "0           0  not in identifiable area      n/a                       n/a   \n",
                            "1           0  not in identifiable area      n/a   no cognitive difficulty   \n",
                            "2           0  not in identifiable area      n/a  has cognitive difficulty   \n",
                            "3           0  not in identifiable area      n/a   no cognitive difficulty   \n",
                            "4           0  not in identifiable area      n/a                       n/a   \n",
                            "\n",
                            "                   diffphys                           diffmob diffcare  \\\n",
                            "0                       n/a                               n/a      n/a   \n",
                            "1  no ambulatory difficulty  no independent living difficulty       no   \n",
                            "2  no ambulatory difficulty  no independent living difficulty       no   \n",
                            "3  no ambulatory difficulty  no independent living difficulty       no   \n",
                            "4                       n/a                               n/a      n/a   \n",
                            "\n",
                            "                          diffsens  diffeye  diffhear  \n",
                            "0  no vision or hearing difficulty       no        no  \n",
                            "1  no vision or hearing difficulty       no        no  \n",
                            "2  no vision or hearing difficulty       no        no  \n",
                            "3  no vision or hearing difficulty       no        no  \n",
                            "4  no vision or hearing difficulty       no        no  \n",
                            "\n",
                            "[5 rows x 104 columns]"
                        ]
                    },
                    "execution_count": 3,
                    "metadata": {},
                    "output_type": "execute_result"
                }
            ],
            "source": [
                "import pandas as pd\n",
                "\n",
                "pd.set_option(\"mode.copy_on_write\", True)\n",
                "\n",
                "acs = pd.read_stata(\n",
                "    \"https://github.com/nickeubank/MIDS_Data/raw/master/US_AmericanCommunitySurvey/US_ACS_2017_10pct_sample.dta\"\n",
                ")\n",
                "\n",
                "print(\"Loading the American Community Survey data from URL:\")\n",
                "acs.head()"
            ]
        },
        {
            "cell_type": "markdown",
            "metadata": {},
            "source": [
                "### Exercise 2\n",
                "\n",
                "For our exercises today, we'll focus on `age`, `sex`, `educ` (education), and `inctot` (total income). Subset your data to those variables, and quickly look at a sample of 10 rows."
            ]
        },
        {
            "cell_type": "code",
            "execution_count": 4,
            "metadata": {},
            "outputs": [
                {
                    "name": "stdout",
                    "output_type": "stream",
                    "text": [
                        "Sample of 10 rows from ACS subset:\n"
                    ]
                },
                {
                    "data": {
                        "text/html": [
                            "<div>\n",
                            "<style scoped>\n",
                            "    .dataframe tbody tr th:only-of-type {\n",
                            "        vertical-align: middle;\n",
                            "    }\n",
                            "\n",
                            "    .dataframe tbody tr th {\n",
                            "        vertical-align: top;\n",
                            "    }\n",
                            "\n",
                            "    .dataframe thead th {\n",
                            "        text-align: right;\n",
                            "    }\n",
                            "</style>\n",
                            "<table border=\"1\" class=\"dataframe\">\n",
                            "  <thead>\n",
                            "    <tr style=\"text-align: right;\">\n",
                            "      <th></th>\n",
                            "      <th>age</th>\n",
                            "      <th>sex</th>\n",
                            "      <th>educ</th>\n",
                            "      <th>inctot</th>\n",
                            "    </tr>\n",
                            "  </thead>\n",
                            "  <tbody>\n",
                            "    <tr>\n",
                            "      <th>305354</th>\n",
                            "      <td>25</td>\n",
                            "      <td>female</td>\n",
                            "      <td>grade 12</td>\n",
                            "      <td>30000</td>\n",
                            "    </tr>\n",
                            "    <tr>\n",
                            "      <th>292038</th>\n",
                            "      <td>12</td>\n",
                            "      <td>female</td>\n",
                            "      <td>grade 5, 6, 7, or 8</td>\n",
                            "      <td>9999999</td>\n",
                            "    </tr>\n",
                            "    <tr>\n",
                            "      <th>49439</th>\n",
                            "      <td>49</td>\n",
                            "      <td>female</td>\n",
                            "      <td>1 year of college</td>\n",
                            "      <td>21000</td>\n",
                            "    </tr>\n",
                            "    <tr>\n",
                            "      <th>260848</th>\n",
                            "      <td>52</td>\n",
                            "      <td>male</td>\n",
                            "      <td>grade 12</td>\n",
                            "      <td>6300</td>\n",
                            "    </tr>\n",
                            "    <tr>\n",
                            "      <th>11841</th>\n",
                            "      <td>54</td>\n",
                            "      <td>male</td>\n",
                            "      <td>grade 12</td>\n",
                            "      <td>50900</td>\n",
                            "    </tr>\n",
                            "    <tr>\n",
                            "      <th>260005</th>\n",
                            "      <td>20</td>\n",
                            "      <td>male</td>\n",
                            "      <td>grade 12</td>\n",
                            "      <td>1000</td>\n",
                            "    </tr>\n",
                            "    <tr>\n",
                            "      <th>173286</th>\n",
                            "      <td>63</td>\n",
                            "      <td>female</td>\n",
                            "      <td>4 years of college</td>\n",
                            "      <td>22000</td>\n",
                            "    </tr>\n",
                            "    <tr>\n",
                            "      <th>6401</th>\n",
                            "      <td>21</td>\n",
                            "      <td>male</td>\n",
                            "      <td>grade 12</td>\n",
                            "      <td>30000</td>\n",
                            "    </tr>\n",
                            "    <tr>\n",
                            "      <th>148449</th>\n",
                            "      <td>24</td>\n",
                            "      <td>female</td>\n",
                            "      <td>1 year of college</td>\n",
                            "      <td>25500</td>\n",
                            "    </tr>\n",
                            "    <tr>\n",
                            "      <th>82252</th>\n",
                            "      <td>31</td>\n",
                            "      <td>male</td>\n",
                            "      <td>1 year of college</td>\n",
                            "      <td>75000</td>\n",
                            "    </tr>\n",
                            "  </tbody>\n",
                            "</table>\n",
                            "</div>"
                        ],
                        "text/plain": [
                            "       age     sex                 educ   inctot\n",
                            "305354  25  female             grade 12    30000\n",
                            "292038  12  female  grade 5, 6, 7, or 8  9999999\n",
                            "49439   49  female    1 year of college    21000\n",
                            "260848  52    male             grade 12     6300\n",
                            "11841   54    male             grade 12    50900\n",
                            "260005  20    male             grade 12     1000\n",
                            "173286  63  female   4 years of college    22000\n",
                            "6401    21    male             grade 12    30000\n",
                            "148449  24  female    1 year of college    25500\n",
                            "82252   31    male    1 year of college    75000"
                        ]
                    },
                    "execution_count": 4,
                    "metadata": {},
                    "output_type": "execute_result"
                }
            ],
            "source": [
                "col = [\"age\", \"sex\", \"educ\", \"inctot\"]\n",
                "subset_acs = acs[col]\n",
                "sample = subset_acs.sample(10)\n",
                "\n",
                "print(\"Sample of 10 rows from ACS subset:\")\n",
                "sample"
            ]
        },
        {
            "cell_type": "markdown",
            "metadata": {},
            "source": [
                "### Exercise 3\n",
                "\n",
                "As before, all the values of `9999999` have the potential to cause us real problems, so replace all the values of `inctot` that are `9999999` with `np.nan`. "
            ]
        },
        {
            "cell_type": "code",
            "execution_count": 5,
            "metadata": {},
            "outputs": [
                {
                    "name": "stdout",
                    "output_type": "stream",
                    "text": [
                        "Replace 9999999 with NaN in the subset:\n"
                    ]
                },
                {
                    "data": {
                        "text/plain": [
                            "0              NaN\n",
                            "1           6000.0\n",
                            "2           6150.0\n",
                            "3          14000.0\n",
                            "4              NaN\n",
                            "            ...   \n",
                            "318999     22130.0\n",
                            "319000         NaN\n",
                            "319001      5000.0\n",
                            "319002    240000.0\n",
                            "319003     48000.0\n",
                            "Name: inctot, Length: 319004, dtype: float64"
                        ]
                    },
                    "execution_count": 5,
                    "metadata": {},
                    "output_type": "execute_result"
                }
            ],
            "source": [
                "import numpy as np\n",
                "\n",
                "subset_acs.loc[subset_acs[\"inctot\"] == 9999999, \"inctot\"] = np.nan\n",
                "\n",
                "print(\"Replace 9999999 with NaN in the subset:\")\n",
                "\n",
                "subset_acs[\"inctot\"]"
            ]
        },
        {
            "cell_type": "markdown",
            "metadata": {},
            "source": [
                "### Exercise 4\n",
                "\n",
                "Attempt to calculate the average age of people in our data. What do you get? Why are you getting that error?\n",
                "\n",
                "You *should* get an error in trying to answer this question, but **PLEASE LEAVE THE CODE THAT GENERATES THIS ERROR COMMENTED OUT SO YOUR NOTEBOOK WILL RUN IN THE AUTOGRADER**. \n",
                "\n",
                "Then talk about the error in a markdown cell."
            ]
        },
        {
            "cell_type": "code",
            "execution_count": 6,
            "metadata": {},
            "outputs": [],
            "source": [
                "# average_age = subset_acs[\"age\"].mean()"
            ]
        },
        {
            "cell_type": "markdown",
            "metadata": {},
            "source": [
                "<span style=\"color: #008080\">I have \"TypeError: 'Categorical' with dtype category does not support reduction 'mean'\" error when I tried to calculate the average age value. \n",
                "\n",
                "<span style=\"color: #008080\">The reason for this error could be:\n",
                "\n",
                "<span style=\"color: #008080\">1. The age column might contain non-numeric values or string values.    \n",
                "\n",
                "<span style=\"color: #008080\">2. The column might contain missing values (NaN) that can interfere with calculations.     \n",
                "\n",
                "<span style=\"color: #008080\">3. There could be some unexpected data types or corrupted data in the age column.</span>"
            ]
        },
        {
            "cell_type": "markdown",
            "metadata": {},
            "source": [
                "### Exercise 5\n",
                "\n",
                "We want to be able to calculate things using age, so we need it to be a numeric type. Check the current type of `age`, and look at all the values of `age` to figure out why it's categorical and not numeric. You should find two problematic categories. Store the values of these categories in `\"ex5_age_young\"` and `\"ex5_age_old\"` (once you find them, it should be clear which is which)."
            ]
        },
        {
            "cell_type": "code",
            "execution_count": 7,
            "metadata": {},
            "outputs": [
                {
                    "name": "stdout",
                    "output_type": "stream",
                    "text": [
                        "count     319004\n",
                        "unique        97\n",
                        "top           60\n",
                        "freq        4950\n",
                        "Name: age, dtype: object\n",
                        "category\n"
                    ]
                }
            ],
            "source": [
                "age_type = subset_acs[\"age\"].dtype\n",
                "\n",
                "print(acs.age.describe())\n",
                "print(age_type)"
            ]
        },
        {
            "cell_type": "code",
            "execution_count": 8,
            "metadata": {},
            "outputs": [
                {
                    "name": "stdout",
                    "output_type": "stream",
                    "text": [
                        "By listing the values in the 'age' column, I find two problematic categories:, \n",
                        "one is 'less than 1 year old',the other one is '90 (90+ in 1980 and 1990)'.\n"
                    ]
                }
            ],
            "source": [
                "subset_acs[\"age\"].dtypes\n",
                "\n",
                "results = {}\n",
                "\n",
                "results[\"ex5_age_young\"] = \"less than 1 year old\"\n",
                "results[\"ex5_age_old\"] = \"90 (90+ in 1980 and 1990)\"\n",
                "\n",
                "print(\n",
                "    f\"By listing the values in the 'age' column, I find two problematic categories:, \\none is 'less than 1 year old',\"\n",
                "    \"the other one is '90 (90+ in 1980 and 1990)'.\"\n",
                ")"
            ]
        },
        {
            "cell_type": "markdown",
            "metadata": {},
            "source": [
                "### Exercise 6\n",
                "\n",
                "In order to convert `age` into a numeric variable, we need to replace those problematic entries with values that `pandas` can later convert into numbers. Pick appropriate substitutions for the existing values and replace the current values. \n",
                "\n",
                "**Hint 1:** Categorical variables act like strings, so you might want to use string methods! \n",
                "\n",
                "**Hint 2:** Remember that characters like parentheses, pluses, asterisks, etc. are special in Python strings, and you have to escape them if you want them to be interpreted literally!\n",
                "\n",
                "**Hint 3:** Because the US Census has been conducted regularly for hundreds of years but exactly how the census has been conducted have occasionally changed, variables are sometimes coded in a way that might be interpreted in different ways for different census years. For example, hypothetically, one might write `90 (90+ in 1980 and 1990)` if the Censuses conducted in 1980 and 1990 used to top-code age at 90 (any values *over* 90 were just coded as 90), but more recent Censuses no longer top-coded age and recorded ages over 90 as the respondents actual age."
            ]
        },
        {
            "cell_type": "code",
            "execution_count": 9,
            "metadata": {},
            "outputs": [
                {
                    "name": "stdout",
                    "output_type": "stream",
                    "text": [
                        "I replaced the two problematic ages to string entries, then converted the numeric string entries to integers, \n",
                        "and converted non-numeric entries to NaN.\n"
                    ]
                },
                {
                    "data": {
                        "text/html": [
                            "<div>\n",
                            "<style scoped>\n",
                            "    .dataframe tbody tr th:only-of-type {\n",
                            "        vertical-align: middle;\n",
                            "    }\n",
                            "\n",
                            "    .dataframe tbody tr th {\n",
                            "        vertical-align: top;\n",
                            "    }\n",
                            "\n",
                            "    .dataframe thead th {\n",
                            "        text-align: right;\n",
                            "    }\n",
                            "</style>\n",
                            "<table border=\"1\" class=\"dataframe\">\n",
                            "  <thead>\n",
                            "    <tr style=\"text-align: right;\">\n",
                            "      <th></th>\n",
                            "      <th>age</th>\n",
                            "      <th>sex</th>\n",
                            "      <th>educ</th>\n",
                            "      <th>inctot</th>\n",
                            "    </tr>\n",
                            "  </thead>\n",
                            "  <tbody>\n",
                            "    <tr>\n",
                            "      <th>0</th>\n",
                            "      <td>4</td>\n",
                            "      <td>female</td>\n",
                            "      <td>nursery school to grade 4</td>\n",
                            "      <td>NaN</td>\n",
                            "    </tr>\n",
                            "    <tr>\n",
                            "      <th>1</th>\n",
                            "      <td>17</td>\n",
                            "      <td>female</td>\n",
                            "      <td>grade 11</td>\n",
                            "      <td>6000.0</td>\n",
                            "    </tr>\n",
                            "    <tr>\n",
                            "      <th>2</th>\n",
                            "      <td>63</td>\n",
                            "      <td>male</td>\n",
                            "      <td>4 years of college</td>\n",
                            "      <td>6150.0</td>\n",
                            "    </tr>\n",
                            "    <tr>\n",
                            "      <th>3</th>\n",
                            "      <td>66</td>\n",
                            "      <td>female</td>\n",
                            "      <td>grade 12</td>\n",
                            "      <td>14000.0</td>\n",
                            "    </tr>\n",
                            "    <tr>\n",
                            "      <th>4</th>\n",
                            "      <td>1</td>\n",
                            "      <td>male</td>\n",
                            "      <td>n/a or no schooling</td>\n",
                            "      <td>NaN</td>\n",
                            "    </tr>\n",
                            "    <tr>\n",
                            "      <th>...</th>\n",
                            "      <td>...</td>\n",
                            "      <td>...</td>\n",
                            "      <td>...</td>\n",
                            "      <td>...</td>\n",
                            "    </tr>\n",
                            "    <tr>\n",
                            "      <th>318999</th>\n",
                            "      <td>33</td>\n",
                            "      <td>female</td>\n",
                            "      <td>4 years of college</td>\n",
                            "      <td>22130.0</td>\n",
                            "    </tr>\n",
                            "    <tr>\n",
                            "      <th>319000</th>\n",
                            "      <td>4</td>\n",
                            "      <td>female</td>\n",
                            "      <td>nursery school to grade 4</td>\n",
                            "      <td>NaN</td>\n",
                            "    </tr>\n",
                            "    <tr>\n",
                            "      <th>319001</th>\n",
                            "      <td>20</td>\n",
                            "      <td>male</td>\n",
                            "      <td>grade 12</td>\n",
                            "      <td>5000.0</td>\n",
                            "    </tr>\n",
                            "    <tr>\n",
                            "      <th>319002</th>\n",
                            "      <td>47</td>\n",
                            "      <td>male</td>\n",
                            "      <td>5+ years of college</td>\n",
                            "      <td>240000.0</td>\n",
                            "    </tr>\n",
                            "    <tr>\n",
                            "      <th>319003</th>\n",
                            "      <td>33</td>\n",
                            "      <td>male</td>\n",
                            "      <td>5+ years of college</td>\n",
                            "      <td>48000.0</td>\n",
                            "    </tr>\n",
                            "  </tbody>\n",
                            "</table>\n",
                            "<p>319004 rows × 4 columns</p>\n",
                            "</div>"
                        ],
                        "text/plain": [
                            "        age     sex                       educ    inctot\n",
                            "0         4  female  nursery school to grade 4       NaN\n",
                            "1        17  female                   grade 11    6000.0\n",
                            "2        63    male         4 years of college    6150.0\n",
                            "3        66  female                   grade 12   14000.0\n",
                            "4         1    male        n/a or no schooling       NaN\n",
                            "...     ...     ...                        ...       ...\n",
                            "318999   33  female         4 years of college   22130.0\n",
                            "319000    4  female  nursery school to grade 4       NaN\n",
                            "319001   20    male                   grade 12    5000.0\n",
                            "319002   47    male        5+ years of college  240000.0\n",
                            "319003   33    male        5+ years of college   48000.0\n",
                            "\n",
                            "[319004 rows x 4 columns]"
                        ]
                    },
                    "execution_count": 9,
                    "metadata": {},
                    "output_type": "execute_result"
                }
            ],
            "source": [
                "subset_acs.loc[:, \"age\"] = subset_acs[\"age\"].replace(\"less than 1 year old\", \"0\")\n",
                "subset_acs.loc[:, \"age\"] = subset_acs[\"age\"].replace(\"90 (90+ in 1980 and 1990)\", \"90\")\n",
                "subset_acs.loc[:, \"age\"] = pd.to_numeric(subset_acs[\"age\"])\n",
                "subset_acs[\"age\"]\n",
                "# subset_acs_copy = subset_acs.copy()\n",
                "\n",
                "# subset_acs_copy[\"age\"] = subset_acs_copy[\"age\"].astype(str)\n",
                "# subset_acs_copy.loc[subset_acs_copy[\"age\"] == \"less than 1 year old\", \"age\"] = 0\n",
                "# subset_acs_copy.loc[subset_acs_copy[\"age\"] == \"90 (90+ in 1980 and 1990)\", \"age\"] = 90\n",
                "\n",
                "# is_numeric_boolean = subset_acs_copy[\"age\"].str.isnumeric()\n",
                "# subset_acs_copy.loc[is_numeric_boolean, \"age\"] = subset_acs_copy.loc[is_numeric_boolean, \"age\"].astype(int)\n",
                "# subset_acs_copy.loc[~is_numeric_boolean, 'age'] = None\n",
                "\n",
                "\n",
                "print(\n",
                "    \"I replaced the two problematic ages to string entries, then converted the numeric string entries to integers, \\nand converted non-numeric entries to NaN.\"\n",
                ")\n",
                "subset_acs"
            ]
        },
        {
            "cell_type": "markdown",
            "metadata": {},
            "source": [
                "### Exercise 7\n",
                "\n",
                "Now convert age from a categorical to numeric. Calculate the average age amoung this group, and store it in `\"ex7_avg_age\"`."
            ]
        },
        {
            "cell_type": "code",
            "execution_count": 10,
            "metadata": {},
            "outputs": [
                {
                    "name": "stdout",
                    "output_type": "stream",
                    "text": [
                        "The average age amoung this group is about 41.\n"
                    ]
                }
            ],
            "source": [
                "ex7_avg_age = subset_acs[\"age\"].mean()\n",
                "results[\"ex7_avg_age\"] = ex7_avg_age\n",
                "\n",
                "print(f\"The average age amoung this group is about {round(ex7_avg_age):,}.\")"
            ]
        },
        {
            "cell_type": "markdown",
            "metadata": {},
            "source": [
                "### Exercise 8\n",
                "\n",
                "Let's now filter out anyone in our data whose age is less than 18. Note that before made `age` a numeric variable, we couldn't do this! Again, calculate the average age and this time store it in `\"ex8_avg_age\"`. \n",
                "\n",
                "Use this sample of people 18 and over for all subsequent exercises."
            ]
        },
        {
            "cell_type": "code",
            "execution_count": 11,
            "metadata": {},
            "outputs": [
                {
                    "name": "stdout",
                    "output_type": "stream",
                    "text": [
                        "The average age amoung this group is about 50.\n"
                    ]
                }
            ],
            "source": [
                "subset_acs_over_18 = subset_acs[subset_acs[\"age\"] >= 18]\n",
                "\n",
                "ex8_avg_age = subset_acs_over_18[\"age\"].mean()\n",
                "results[\"ex8_avg_age\"] = ex8_avg_age\n",
                "\n",
                "print(f\"The average age amoung this group is about {round(ex8_avg_age):,}.\")"
            ]
        },
        {
            "cell_type": "markdown",
            "metadata": {},
            "source": [
                "### Exercise 9\n",
                "\n",
                "Create an indicator variable for whether each person has *at least* a college Bachelor's degree called `college_degree`. Use this variable to calculate the number of people in the dataset with a college degree. You may assume that to get a college degree you need to complete at least 4 years of college. Save the result as `\"ex9_num_college\"`."
            ]
        },
        {
            "cell_type": "code",
            "execution_count": 14,
            "metadata": {},
            "outputs": [
                {
                    "name": "stdout",
                    "output_type": "stream",
                    "text": [
                        "The total number of people who have at least a college degree is 77,013.\n"
                    ]
                }
            ],
            "source": [
                "subset_acs_over_18[\"college_degree\"] = (\n",
                "    subset_acs_over_18[\"educ\"] == \"4 years of college\"\n",
                ") | (subset_acs_over_18[\"educ\"] == \"5+ years of college\")\n",
                "\n",
                "ex9_num_college = subset_acs_over_18[\"college_degree\"].sum()\n",
                "results[\"ex9_num_college\"] = ex9_num_college\n",
                "\n",
                "print(\n",
                "    f\"The total number of people who have at least a college degree is {(ex9_num_college):,}.\"\n",
                ")"
            ]
        },
        {
            "cell_type": "markdown",
            "metadata": {},
            "source": [
                "### Exercise 10\n",
                "\n",
                "Let's examine how the educational gender gap. Use `pd.crosstab` to create a cross-tabulation of `sex` and `college_degree`. `pd.crosstab` will give you the number of people who have each combination of `sex` and `college_degree` (so in this case, it will give us a 2x2 table with Male and Female as rows, and `college_degree` True and False as columns, or vice versa. "
            ]
        },
        {
            "cell_type": "code",
            "execution_count": 16,
            "metadata": {},
            "outputs": [
                {
                    "name": "stdout",
                    "output_type": "stream",
                    "text": [
                        "The total number of male who have a college degree is 99963 and female is 105859.\n"
                    ]
                },
                {
                    "data": {
                        "text/html": [
                            "<div>\n",
                            "<style scoped>\n",
                            "    .dataframe tbody tr th:only-of-type {\n",
                            "        vertical-align: middle;\n",
                            "    }\n",
                            "\n",
                            "    .dataframe tbody tr th {\n",
                            "        vertical-align: top;\n",
                            "    }\n",
                            "\n",
                            "    .dataframe thead th {\n",
                            "        text-align: right;\n",
                            "    }\n",
                            "</style>\n",
                            "<table border=\"1\" class=\"dataframe\">\n",
                            "  <thead>\n",
                            "    <tr style=\"text-align: right;\">\n",
                            "      <th>college_degree</th>\n",
                            "      <th>False</th>\n",
                            "      <th>True</th>\n",
                            "    </tr>\n",
                            "    <tr>\n",
                            "      <th>sex</th>\n",
                            "      <th></th>\n",
                            "      <th></th>\n",
                            "    </tr>\n",
                            "  </thead>\n",
                            "  <tbody>\n",
                            "    <tr>\n",
                            "      <th>male</th>\n",
                            "      <td>85821</td>\n",
                            "      <td>36181</td>\n",
                            "    </tr>\n",
                            "    <tr>\n",
                            "      <th>female</th>\n",
                            "      <td>90200</td>\n",
                            "      <td>40832</td>\n",
                            "    </tr>\n",
                            "  </tbody>\n",
                            "</table>\n",
                            "</div>"
                        ],
                        "text/plain": [
                            "college_degree  False  True \n",
                            "sex                         \n",
                            "male            85821  36181\n",
                            "female          90200  40832"
                        ]
                    },
                    "execution_count": 16,
                    "metadata": {},
                    "output_type": "execute_result"
                }
            ],
            "source": [
                "educational_gender_gap = pd.crosstab(\n",
                "    subset_acs_over_18[\"sex\"], subset_acs_over_18[\"college_degree\"]\n",
                ")\n",
                "\n",
                "print(\n",
                "    f\"The total number of male who have a college degree is 99963 and female is 105859.\"\n",
                ")\n",
                "\n",
                "educational_gender_gap"
            ]
        },
        {
            "cell_type": "markdown",
            "metadata": {},
            "source": [
                "### Exercise 11\n",
                "\n",
                "Counts are kind of hard to interpret. `pd.crosstab` can also normalize values to give percentages. Look at the `pd.crosstab` help file to figure out how to normalize the values in the table. Normalize them so that you get the share of men with and without college degree, and the share of women with and without college degrees.\n",
                "\n",
                "Store the share (between 0 and 1) of men with college degrees in `\"ex11_share_male_w_degrees\"`, and the share of women with degrees in `\"ex11_share_female_w_degrees\"`."
            ]
        },
        {
            "cell_type": "code",
            "execution_count": 17,
            "metadata": {},
            "outputs": [
                {
                    "data": {
                        "text/plain": [
                            "['male', 'female', NaN]\n",
                            "Categories (2, object): ['male' < 'female']"
                        ]
                    },
                    "execution_count": 17,
                    "metadata": {},
                    "output_type": "execute_result"
                }
            ],
            "source": [
                "subset_acs_over_18[\"sex\"].unique()"
            ]
        },
        {
            "cell_type": "code",
            "execution_count": 18,
            "metadata": {},
            "outputs": [
                {
                    "name": "stdout",
                    "output_type": "stream",
                    "text": [
                        "The percentages of male who have a college degree is about 18.0% and female is about 19.2%.\n",
                        "0.29656071211947344\n",
                        "0.3116185359301545\n"
                    ]
                }
            ],
            "source": [
                "normalized_gender_gap = pd.crosstab(\n",
                "    subset_acs_over_18[\"sex\"], subset_acs_over_18[\"college_degree\"], normalize=\"index\"\n",
                ")\n",
                "\n",
                "ex11_share_male_w_degrees = normalized_gender_gap.loc[\"male\", True]\n",
                "ex11_share_female_w_degrees = normalized_gender_gap.loc[\"female\", True]\n",
                "\n",
                "results[\"ex11_share_male_w_degrees\"] = ex11_share_male_w_degrees\n",
                "results[\"ex11_share_female_w_degrees\"] = ex11_share_female_w_degrees\n",
                "\n",
                "print(\n",
                "    f\"The percentages of male who have a college degree is about 18.0% and female is about 19.2%.\"\n",
                ")\n",
                "print(ex11_share_male_w_degrees)\n",
                "print(ex11_share_female_w_degrees)"
            ]
        },
        {
            "cell_type": "markdown",
            "metadata": {},
            "source": [
                "### Exercise 12\n",
                "\n",
                "Now, let's recreate that table for people who are 40 and over and people under 40. Over time, what does this suggest about the absolute difference in the share of men and women earning college degrees? Has it gotten larger, stayed the same, or gotten smaller? Store your answer (either `\"the absolute difference has increased\"` or `\"the absolute difference has decreased\"`) in `\"ex12_comparing\"`."
            ]
        },
        {
            "cell_type": "code",
            "execution_count": 19,
            "metadata": {},
            "outputs": [
                {
                    "name": "stdout",
                    "output_type": "stream",
                    "text": [
                        "The table shows the absolute difference of male and female who are over 40 \n",
                        "and have college degress has increased.\n"
                    ]
                },
                {
                    "data": {
                        "text/html": [
                            "<div>\n",
                            "<style scoped>\n",
                            "    .dataframe tbody tr th:only-of-type {\n",
                            "        vertical-align: middle;\n",
                            "    }\n",
                            "\n",
                            "    .dataframe tbody tr th {\n",
                            "        vertical-align: top;\n",
                            "    }\n",
                            "\n",
                            "    .dataframe thead tr th {\n",
                            "        text-align: left;\n",
                            "    }\n",
                            "\n",
                            "    .dataframe thead tr:last-of-type th {\n",
                            "        text-align: right;\n",
                            "    }\n",
                            "</style>\n",
                            "<table border=\"1\" class=\"dataframe\">\n",
                            "  <thead>\n",
                            "    <tr>\n",
                            "      <th>age</th>\n",
                            "      <th colspan=\"2\" halign=\"left\">False</th>\n",
                            "      <th colspan=\"2\" halign=\"left\">True</th>\n",
                            "    </tr>\n",
                            "    <tr>\n",
                            "      <th>college_degree</th>\n",
                            "      <th>False</th>\n",
                            "      <th>True</th>\n",
                            "      <th>False</th>\n",
                            "      <th>True</th>\n",
                            "    </tr>\n",
                            "    <tr>\n",
                            "      <th>sex</th>\n",
                            "      <th></th>\n",
                            "      <th></th>\n",
                            "      <th></th>\n",
                            "      <th></th>\n",
                            "    </tr>\n",
                            "  </thead>\n",
                            "  <tbody>\n",
                            "    <tr>\n",
                            "      <th>male</th>\n",
                            "      <td>0.259602</td>\n",
                            "      <td>0.089728</td>\n",
                            "      <td>0.443837</td>\n",
                            "      <td>0.206833</td>\n",
                            "    </tr>\n",
                            "    <tr>\n",
                            "      <th>female</th>\n",
                            "      <td>0.214291</td>\n",
                            "      <td>0.107607</td>\n",
                            "      <td>0.474090</td>\n",
                            "      <td>0.204011</td>\n",
                            "    </tr>\n",
                            "  </tbody>\n",
                            "</table>\n",
                            "</div>"
                        ],
                        "text/plain": [
                            "age                False               True           \n",
                            "college_degree     False     True      False     True \n",
                            "sex                                                   \n",
                            "male            0.259602  0.089728  0.443837  0.206833\n",
                            "female          0.214291  0.107607  0.474090  0.204011"
                        ]
                    },
                    "execution_count": 19,
                    "metadata": {},
                    "output_type": "execute_result"
                }
            ],
            "source": [
                "# subset_acs[\"age\"] = subset_acs[\"age\"].astype(int)\n",
                "\n",
                "table = pd.crosstab(\n",
                "    subset_acs_over_18.sex,\n",
                "    [subset_acs_over_18[\"age\"] >= 40, subset_acs_over_18.college_degree],\n",
                "    normalize=\"index\",\n",
                ")\n",
                "\n",
                "results[\"ex12_comparing\"] = \"the absolute difference has increased\"\n",
                "\n",
                "print(\n",
                "    f\"The table shows the absolute difference of male and female who are over 40 \\nand have college degress has increased.\"\n",
                ")\n",
                "table"
            ]
        },
        {
            "cell_type": "markdown",
            "metadata": {},
            "source": [
                "### Exercise 13\n",
                "\n",
                "In words, what is causing the change noted in Exercise 12 (i.e., looking at the tables above, tell me a story about Men and Women's College attainment)."
            ]
        },
        {
            "cell_type": "markdown",
            "metadata": {},
            "source": [
                "<span style=\"color: #008080\">From the data, we can derive the following insights:\n",
                "\n",
                "<span style=\"color: #008080\">1. Increased College Attainment Over Time: Both men and women under 40 have a lower percentage of individuals with college degrees than those 40 and over. This suggests that college attainment has increased over time for both genders.\n",
                "\n",
                "<span style=\"color: #008080\">2. Gender Gap in College Attainment is Decreasing: Among those 40 and over, a slightly higher percentage of women have college degrees than men. In contrast, for those under 40, the percentage of women with degrees is closer to the percentage of men with degrees. This suggests that the gender gap in college attainment has decreased over time.\n",
                "\n",
                "<span style=\"color: #008080\">3. Higher Proportion of Young People Without Degrees: The percentage of young people (under 40) without degrees is higher than that of older people (40 and over) for both genders. However, this doesn't necessarily mean younger generations are less educated. It could be because many in the under-40 group are still in the process of completing their education.\n",
                "\n",
                "<span style=\"color: #008080\">In summary, while college attainment has generally increased over time for both men and women, the gender gap in college attainment appears to be narrowing, with women slightly outpacing men in recent generations.\n",
                "\n",
                "\n",
                "\n",
                "\n",
                "\n"
            ]
        },
        {
            "cell_type": "markdown",
            "metadata": {},
            "source": [
                "## Check Results"
            ]
        },
        {
            "cell_type": "code",
            "execution_count": 20,
            "metadata": {},
            "outputs": [
                {
                    "data": {
                        "text/plain": [
                            "{'ex5_age_young': 'less than 1 year old',\n",
                            " 'ex5_age_old': '90 (90+ in 1980 and 1990)',\n",
                            " 'ex7_avg_age': 41.30384885455982,\n",
                            " 'ex8_avg_age': 49.75769659413359,\n",
                            " 'ex9_num_college': 77013,\n",
                            " 'ex11_share_male_w_degrees': 0.29656071211947344,\n",
                            " 'ex11_share_female_w_degrees': 0.3116185359301545,\n",
                            " 'ex12_comparing': 'the absolute difference has increased'}"
                        ]
                    },
                    "execution_count": 20,
                    "metadata": {},
                    "output_type": "execute_result"
                }
            ],
            "source": [
                "results"
            ]
        },
        {
            "cell_type": "code",
            "execution_count": null,
            "metadata": {},
            "outputs": [],
            "source": [
                "assert set(results.keys()) == {\n",
                "    \"ex5_age_young\",\n",
                "    \"ex5_age_old\",\n",
                "    \"ex7_avg_age\",\n",
                "    \"ex8_avg_age\",\n",
                "    \"ex9_num_college\",\n",
                "    \"ex11_share_male_w_degrees\",\n",
                "    \"ex11_share_female_w_degrees\",\n",
                "    \"ex12_comparing\",\n",
                "}"
            ]
        },
        {
            "cell_type": "markdown",
            "metadata": {},
            "source": [
                "## Want More Practice?\n",
                "\n",
                "Calculate the educational racial gap in the United States for White Americans, Black Americans, Hispanic Americans, and other groups. \n",
                "\n",
                "Note that to do these calculations, you'll have to deal with the fact that unlike most Americans, the American Census Bureau treats \"Hispanic\" not as a racial category, but a linguistic one. As a result, the racial category \"White\" in `race` actually includes most Hispanic Americans. For this analysis, we wish to work with the mutually exclusive categories of \"White, non-Hispanic\", \"White, Hispanic\", \"Black (Hispanic or non-Hispanic)\", and a category for everyone else. "
            ]
        }
    ],
    "metadata": {
        "kernelspec": {
            "display_name": "Python 3.10.6 ('base')",
            "language": "python",
            "name": "python3"
        },
        "language_info": {
            "codemirror_mode": {
                "name": "ipython",
                "version": 3
            },
            "file_extension": ".py",
            "mimetype": "text/x-python",
            "name": "python",
            "nbconvert_exporter": "python",
            "pygments_lexer": "ipython3",
            "version": "3.11.5"
        },
        "vscode": {
            "interpreter": {
                "hash": "718fed28bf9f8c7851519acf2fb923cd655120b36de3b67253eeb0428bd33d2d"
            }
        }
    },
    "nbformat": 4,
    "nbformat_minor": 4
}
