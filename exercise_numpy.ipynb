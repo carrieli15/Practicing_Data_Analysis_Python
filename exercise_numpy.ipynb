{
 "cells": [
  {
   "cell_type": "markdown",
   "metadata": {},
   "source": [
    "## Exercise 1"
   ]
  },
  {
   "cell_type": "code",
   "execution_count": 1,
   "metadata": {},
   "outputs": [],
   "source": [
    "import numpy as np\n",
    "\n",
    "house_income = np.loadtxt(\n",
    "    \"https://raw.githubusercontent.com/nickeubank/practicaldatascience/master/Example_Data/us_household_incomes.txt\"\n",
    ")\n",
    "# print(house_income)"
   ]
  },
  {
   "cell_type": "markdown",
   "metadata": {},
   "source": [
    "## Exercise 2\n",
    "* It does not look like a normal or uniform distribution.  \n",
    "* This makes us think that in common equality is relatively low in the United States because the distribution is skewed."
   ]
  },
  {
   "cell_type": "code",
   "execution_count": 2,
   "metadata": {},
   "outputs": [
    {
     "data": {
      "text/plain": [
       "(array([8.77542e+05, 4.35030e+04, 1.01710e+04, 1.92100e+03, 3.98000e+02,\n",
       "        1.17000e+02, 2.90000e+01, 8.00000e+00, 4.00000e+00, 2.00000e+00]),\n",
       " array([ -16942. ,  225842.5,  468627. ,  711411.5,  954196. , 1196980.5,\n",
       "        1439765. , 1682549.5, 1925334. , 2168118.5, 2410903. ]),\n",
       " <BarContainer object of 10 artists>)"
      ]
     },
     "execution_count": 2,
     "metadata": {},
     "output_type": "execute_result"
    },
    {
     "data": {
      "image/png": "[encoded data removed]",
      "text/plain": [
       "<Figure size 640x480 with 1 Axes>"
      ]
     },
     "metadata": {},
     "output_type": "display_data"
    }
   ],
   "source": [
    "from matplotlib import pyplot as plt\n",
    "\n",
    "plt.hist(house_income)"
   ]
  },
  {
   "cell_type": "markdown",
   "metadata": {},
   "source": [
    "## Exercise 3\n",
    "* It does not look like a uniform distribution, but it improves, compared to the first one.  \n",
    "* The income distribution is significant right-skewd. So the skewness in the US income distribution is driven by extreme high earners."
   ]
  },
  {
   "cell_type": "code",
   "execution_count": 3,
   "metadata": {},
   "outputs": [
    {
     "data": {
      "text/plain": [
       "(array([262190., 338722., 173615.,  76580.,  33854.,  16134.,   8329.,\n",
       "          5401.,   4556.,   4038.]),\n",
       " array([-16942.,  34752.,  86446., 138140., 189834., 241528., 293222.,\n",
       "        344916., 396610., 448304., 499998.]),\n",
       " <BarContainer object of 10 artists>)"
      ]
     },
     "execution_count": 3,
     "metadata": {},
     "output_type": "execute_result"
    },
    {
     "data": {
      "image/png": "[encoded data removed]",
      "text/plain": [
       "<Figure size 640x480 with 1 Axes>"
      ]
     },
     "metadata": {},
     "output_type": "display_data"
    }
   ],
   "source": [
    "house_income_low = house_income[house_income < 500_000]\n",
    "plt.hist(house_income_low)"
   ]
  },
  {
   "cell_type": "markdown",
   "metadata": {},
   "source": [
    "## Exercise 4"
   ]
  },
  {
   "cell_type": "code",
   "execution_count": 4,
   "metadata": {},
   "outputs": [],
   "source": [
    "from ineqpy.inequality import gini"
   ]
  },
  {
   "cell_type": "code",
   "execution_count": 5,
   "metadata": {},
   "outputs": [
    {
     "data": {
      "text/plain": [
       "{'ex4_share_below_poverty': 0.14711442173300704,\n",
       " 'ex4_gini': 0.48109255468791856}"
      ]
     },
     "execution_count": 5,
     "metadata": {},
     "output_type": "execute_result"
    }
   ],
   "source": [
    "results = {}\n",
    "results[\"ex4_share_below_poverty\"] = len(house_income[house_income < 20_000]) / len(\n",
    "    house_income\n",
    ")\n",
    "results[\"ex4_gini\"] = gini(house_income)\n",
    "results"
   ]
  },
  {
   "cell_type": "markdown",
   "metadata": {},
   "source": [
    "## Exercise 5\n",
    "* The U.S. is relatively ecnomically equal comapred to countries like South Africa and Zambia. But there are more countries with lower gini index.\n",
    "* It is not I expects as I thought the U.S. have lower gini index."
   ]
  },
  {
   "cell_type": "markdown",
   "metadata": {},
   "source": [
    "## Exercise 6"
   ]
  },
  {
   "cell_type": "code",
   "execution_count": 6,
   "metadata": {},
   "outputs": [
    {
     "data": {
      "text/plain": [
       "{'ex4_share_below_poverty': 0.14711442173300704,\n",
       " 'ex4_gini': 0.48109255468791856,\n",
       " 'ex6_gini_policy_a': 0.4602468507489471,\n",
       " 'ex6_gini_policy_b': 0.4582821778789714,\n",
       " 'ex6_gini_which_reduced_more': 'Policy B'}"
      ]
     },
     "execution_count": 6,
     "metadata": {},
     "output_type": "execute_result"
    }
   ],
   "source": [
    "policy_A = house_income.copy()\n",
    "policy_B = house_income.copy()\n",
    "policy_A[policy_A < 40_000] = policy_A[policy_A < 40_000] + 5000\n",
    "policy_B[policy_B < 30_000] = policy_B[policy_B < 30_000] + 7000\n",
    "results[\"ex6_gini_policy_a\"] = gini(policy_A)\n",
    "results[\"ex6_gini_policy_b\"] = gini(policy_B)\n",
    "results[\"ex6_gini_which_reduced_more\"] = \"Policy B\"\n",
    "results"
   ]
  },
  {
   "cell_type": "markdown",
   "metadata": {},
   "source": [
    "## Exercise 7"
   ]
  },
  {
   "cell_type": "code",
   "execution_count": 7,
   "metadata": {},
   "outputs": [
    {
     "data": {
      "text/plain": [
       "{'ex4_share_below_poverty': 0.14711442173300704,\n",
       " 'ex4_gini': 0.48109255468791856,\n",
       " 'ex6_gini_policy_a': 0.4602468507489471,\n",
       " 'ex6_gini_policy_b': 0.4582821778789714,\n",
       " 'ex6_gini_which_reduced_more': 'Policy B',\n",
       " 'ex7_gini_policy_c': 0.4756173843900695}"
      ]
     },
     "execution_count": 7,
     "metadata": {},
     "output_type": "execute_result"
    }
   ],
   "source": [
    "policy_C = house_income.copy()\n",
    "policy_C[policy_C > 250_000] = policy_C[policy_C > 250_000] * 0.95\n",
    "results[\"ex7_gini_policy_c\"] = gini(policy_C)\n",
    "results"
   ]
  },
  {
   "cell_type": "markdown",
   "metadata": {},
   "source": [
    "## Exercise 8"
   ]
  },
  {
   "cell_type": "code",
   "execution_count": 8,
   "metadata": {},
   "outputs": [
    {
     "data": {
      "text/plain": [
       "{'ex4_share_below_poverty': 0.14711442173300704,\n",
       " 'ex4_gini': 0.48109255468791856,\n",
       " 'ex6_gini_policy_a': 0.4602468507489471,\n",
       " 'ex6_gini_policy_b': 0.4582821778789714,\n",
       " 'ex6_gini_which_reduced_more': 'Policy B',\n",
       " 'ex7_gini_policy_c': 0.4756173843900695,\n",
       " 'ex8_revenue_raised': 929623340.85}"
      ]
     },
     "execution_count": 8,
     "metadata": {},
     "output_type": "execute_result"
    }
   ],
   "source": [
    "results[\"ex8_revenue_raised\"] = np.sum(house_income[house_income > 250_000] * 0.05)\n",
    "results"
   ]
  },
  {
   "cell_type": "markdown",
   "metadata": {},
   "source": [
    "## Exercise 9"
   ]
  },
  {
   "cell_type": "code",
   "execution_count": 9,
   "metadata": {},
   "outputs": [
    {
     "data": {
      "text/plain": [
       "220906"
      ]
     },
     "execution_count": 9,
     "metadata": {},
     "output_type": "execute_result"
    }
   ],
   "source": [
    "np.count_nonzero(house_income < 30_000)"
   ]
  },
  {
   "cell_type": "code",
   "execution_count": 10,
   "metadata": {},
   "outputs": [
    {
     "data": {
      "text/plain": [
       "220906"
      ]
     },
     "execution_count": 10,
     "metadata": {},
     "output_type": "execute_result"
    }
   ],
   "source": [
    "np.sum(house_income < 30_000)"
   ]
  },
  {
   "cell_type": "code",
   "execution_count": 11,
   "metadata": {},
   "outputs": [
    {
     "data": {
      "text/plain": [
       "0.23659332008846573"
      ]
     },
     "execution_count": 11,
     "metadata": {},
     "output_type": "execute_result"
    }
   ],
   "source": [
    "np.mean(house_income < 30_000)"
   ]
  },
  {
   "cell_type": "code",
   "execution_count": 12,
   "metadata": {},
   "outputs": [],
   "source": [
    "results[\"ex9_transfers\"] = results[\"ex8_revenue_raised\"] / (\n",
    "    np.count_nonzero(house_income[house_income < 30_000])\n",
    ")\n",
    "# MAY NEED MODIFY"
   ]
  },
  {
   "cell_type": "markdown",
   "metadata": {},
   "source": [
    "## Exercise 10"
   ]
  },
  {
   "cell_type": "code",
   "execution_count": 13,
   "metadata": {},
   "outputs": [
    {
     "data": {
      "text/plain": [
       "{'ex4_share_below_poverty': 0.14711442173300704,\n",
       " 'ex4_gini': 0.48109255468791856,\n",
       " 'ex6_gini_policy_a': 0.4602468507489471,\n",
       " 'ex6_gini_policy_b': 0.4582821778789714,\n",
       " 'ex6_gini_which_reduced_more': 'Policy B',\n",
       " 'ex7_gini_policy_c': 0.4756173843900695,\n",
       " 'ex8_revenue_raised': 929623340.85,\n",
       " 'ex9_transfers': 4467.474377784292,\n",
       " 'ex7_gini_policy_d': 0.4608230281954682}"
      ]
     },
     "execution_count": 13,
     "metadata": {},
     "output_type": "execute_result"
    }
   ],
   "source": [
    "policy_D = house_income.copy()\n",
    "policy_D[policy_D > 250_000] = policy_D[policy_D > 250_000] * 0.95\n",
    "policy_D[policy_D < 30_000] = policy_D[policy_D < 30_000] + results[\"ex9_transfers\"]\n",
    "results[\"ex7_gini_policy_d\"] = gini(policy_D)\n",
    "results"
   ]
  },
  {
   "cell_type": "markdown",
   "metadata": {},
   "source": [
    "## Exercise 11"
   ]
  },
  {
   "cell_type": "code",
   "execution_count": 14,
   "metadata": {},
   "outputs": [
    {
     "data": {
      "text/plain": [
       "{'ex4_share_below_poverty': 0.14711442173300704,\n",
       " 'ex4_gini': 0.48109255468791856,\n",
       " 'ex6_gini_policy_a': 0.4602468507489471,\n",
       " 'ex6_gini_policy_b': 0.4582821778789714,\n",
       " 'ex6_gini_which_reduced_more': 'Policy B',\n",
       " 'ex7_gini_policy_c': 0.4756173843900695,\n",
       " 'ex8_revenue_raised': 929623340.85,\n",
       " 'ex9_transfers': 4467.474377784292,\n",
       " 'ex7_gini_policy_d': 0.4608230281954682,\n",
       " 'ex7_gini_policy_e': 0.4568298367972015}"
      ]
     },
     "execution_count": 14,
     "metadata": {},
     "output_type": "execute_result"
    }
   ],
   "source": [
    "policy_E = house_income.copy()\n",
    "policy_E[policy_E > 250_000] = policy_E[policy_E > 250_000] * 0.95\n",
    "policy_E[policy_E < 40_000] = policy_E[policy_E < 40_000] + results[\"ex9_transfers\"]\n",
    "results[\"ex7_gini_policy_e\"] = gini(policy_E)\n",
    "results"
   ]
  },
  {
   "cell_type": "markdown",
   "metadata": {},
   "source": [
    "## Exercise 12"
   ]
  },
  {
   "cell_type": "code",
   "execution_count": 15,
   "metadata": {},
   "outputs": [
    {
     "data": {
      "text/plain": [
       "{'ex4_share_below_poverty': 0.14711442173300704,\n",
       " 'ex4_gini': 0.48109255468791856,\n",
       " 'ex6_gini_policy_a': 0.4602468507489471,\n",
       " 'ex6_gini_policy_b': 0.4582821778789714,\n",
       " 'ex6_gini_which_reduced_more': 'Policy B',\n",
       " 'ex7_gini_policy_c': 0.4756173843900695,\n",
       " 'ex8_revenue_raised': 929623340.85,\n",
       " 'ex9_transfers': 4467.474377784292,\n",
       " 'ex7_gini_policy_d': 0.4608230281954682,\n",
       " 'ex7_gini_policy_e': 0.4568298367972015,\n",
       " 'ex12_policy_recommendation': 'Policy E'}"
      ]
     },
     "execution_count": 15,
     "metadata": {},
     "output_type": "execute_result"
    }
   ],
   "source": [
    "results[\"ex12_policy_recommendation\"] = \"Policy E\"\n",
    "results"
   ]
  },
  {
   "cell_type": "code",
   "execution_count": 16,
   "metadata": {},
   "outputs": [
    {
     "ename": "AssertionError",
     "evalue": "",
     "output_type": "error",
     "traceback": [
      "\u001b[0;31m---------------------------------------------------------------------------\u001b[0m",
      "\u001b[0;31mAssertionError\u001b[0m                            Traceback (most recent call last)",
      "\u001b[1;32m/Users/castnut/Desktop/exercise_numpy.ipynb Cell 28\u001b[0m line \u001b[0;36m1\n\u001b[0;32m----> <a href='vscode-notebook-cell:/Users/castnut/Desktop/exercise_numpy.ipynb#X40sZmlsZQ%3D%3D?line=0'>1</a>\u001b[0m \u001b[39massert\u001b[39;00m \u001b[39mset\u001b[39m(results\u001b[39m.\u001b[39mkeys()) \u001b[39m==\u001b[39m {\n\u001b[1;32m      <a href='vscode-notebook-cell:/Users/castnut/Desktop/exercise_numpy.ipynb#X40sZmlsZQ%3D%3D?line=1'>2</a>\u001b[0m     \u001b[39m\"\u001b[39m\u001b[39mex4_share_below_poverty\u001b[39m\u001b[39m\"\u001b[39m,\n\u001b[1;32m      <a href='vscode-notebook-cell:/Users/castnut/Desktop/exercise_numpy.ipynb#X40sZmlsZQ%3D%3D?line=2'>3</a>\u001b[0m     \u001b[39m\"\u001b[39m\u001b[39mex4_gini\u001b[39m\u001b[39m\"\u001b[39m,\n\u001b[1;32m      <a href='vscode-notebook-cell:/Users/castnut/Desktop/exercise_numpy.ipynb#X40sZmlsZQ%3D%3D?line=3'>4</a>\u001b[0m     \u001b[39m\"\u001b[39m\u001b[39mex6_gini_policy_a\u001b[39m\u001b[39m\"\u001b[39m,\n\u001b[1;32m      <a href='vscode-notebook-cell:/Users/castnut/Desktop/exercise_numpy.ipynb#X40sZmlsZQ%3D%3D?line=4'>5</a>\u001b[0m     \u001b[39m\"\u001b[39m\u001b[39mex6_gini_policy_b\u001b[39m\u001b[39m\"\u001b[39m,\n\u001b[1;32m      <a href='vscode-notebook-cell:/Users/castnut/Desktop/exercise_numpy.ipynb#X40sZmlsZQ%3D%3D?line=5'>6</a>\u001b[0m     \u001b[39m\"\u001b[39m\u001b[39mex6_gini_which_reduced_more\u001b[39m\u001b[39m\"\u001b[39m,\n\u001b[1;32m      <a href='vscode-notebook-cell:/Users/castnut/Desktop/exercise_numpy.ipynb#X40sZmlsZQ%3D%3D?line=6'>7</a>\u001b[0m     \u001b[39m\"\u001b[39m\u001b[39mex7_gini_policy_c\u001b[39m\u001b[39m\"\u001b[39m,\n\u001b[1;32m      <a href='vscode-notebook-cell:/Users/castnut/Desktop/exercise_numpy.ipynb#X40sZmlsZQ%3D%3D?line=7'>8</a>\u001b[0m     \u001b[39m\"\u001b[39m\u001b[39mex8_revenue_raised\u001b[39m\u001b[39m\"\u001b[39m,\n\u001b[1;32m      <a href='vscode-notebook-cell:/Users/castnut/Desktop/exercise_numpy.ipynb#X40sZmlsZQ%3D%3D?line=8'>9</a>\u001b[0m     \u001b[39m\"\u001b[39m\u001b[39mex9_transfers\u001b[39m\u001b[39m\"\u001b[39m,\n\u001b[1;32m     <a href='vscode-notebook-cell:/Users/castnut/Desktop/exercise_numpy.ipynb#X40sZmlsZQ%3D%3D?line=9'>10</a>\u001b[0m     \u001b[39m\"\u001b[39m\u001b[39mex10_gini_policy_d\u001b[39m\u001b[39m\"\u001b[39m,\n\u001b[1;32m     <a href='vscode-notebook-cell:/Users/castnut/Desktop/exercise_numpy.ipynb#X40sZmlsZQ%3D%3D?line=10'>11</a>\u001b[0m     \u001b[39m\"\u001b[39m\u001b[39mex11_gini_policy_e\u001b[39m\u001b[39m\"\u001b[39m,\n\u001b[1;32m     <a href='vscode-notebook-cell:/Users/castnut/Desktop/exercise_numpy.ipynb#X40sZmlsZQ%3D%3D?line=11'>12</a>\u001b[0m     \u001b[39m\"\u001b[39m\u001b[39mex12_policy_recommendation\u001b[39m\u001b[39m\"\u001b[39m,\n\u001b[1;32m     <a href='vscode-notebook-cell:/Users/castnut/Desktop/exercise_numpy.ipynb#X40sZmlsZQ%3D%3D?line=12'>13</a>\u001b[0m }\n",
      "\u001b[0;31mAssertionError\u001b[0m: "
     ]
    }
   ],
   "source": [
    "assert set(results.keys()) == {\n",
    "    \"ex4_share_below_poverty\",\n",
    "    \"ex4_gini\",\n",
    "    \"ex6_gini_policy_a\",\n",
    "    \"ex6_gini_policy_b\",\n",
    "    \"ex6_gini_which_reduced_more\",\n",
    "    \"ex7_gini_policy_c\",\n",
    "    \"ex8_revenue_raised\",\n",
    "    \"ex9_transfers\",\n",
    "    \"ex10_gini_policy_d\",\n",
    "    \"ex11_gini_policy_e\",\n",
    "    \"ex12_policy_recommendation\",\n",
    "}"
   ]
  },
  {
   "cell_type": "markdown",
   "metadata": {},
   "source": [
    "Cite: Steven Ruggles, Sarah Flood, Sophia Foster, Ronald Goeken, Jose Pacas, Megan Schouweiler and Matthew Sobek. IPUMS USA: Version 11.0 [dataset]. Minneapolis, MN: IPUMS, 2021. https://doi.org/10.18128/D010.V11.0"
   ]
  }
 ],
 "metadata": {
  "kernelspec": {
   "display_name": "base",
   "language": "python",
   "name": "python3"
  },
  "language_info": {
   "codemirror_mode": {
    "name": "ipython",
    "version": 3
   },
   "file_extension": ".py",
   "mimetype": "text/x-python",
   "name": "python",
   "nbconvert_exporter": "python",
   "pygments_lexer": "ipython3",
   "version": "3.11.5"
  },
  "orig_nbformat": 4
 },
 "nbformat": 4,
 "nbformat_minor": 2
}
