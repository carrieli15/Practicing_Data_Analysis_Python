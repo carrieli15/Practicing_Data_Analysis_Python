{
 "cells": [
  {
   "cell_type": "markdown",
   "metadata": {},
   "source": [
    "# Groupby and Arrest Data\n",
    "\n",
    "<span style=\"color: #008080\">*Jiechen Li & Joanna Nowakowska*</span>\n",
    "\n",
    "In our merging exercises, we examined the relationship between county-level violent arrest totals and county-level drug arrest totals. In those exercises, you were given a dataset that provided you with county-level arrest totals. But that's not actually how the data is provided by the state of California. This week we will work with the *raw* California arrest data, which is not organized by county or even county-year. \n"
   ]
  },
  {
   "cell_type": "markdown",
   "metadata": {},
   "source": [
    "\n",
    "## Gradescope Autograding\n",
    "\n",
    "Please follow [all standard guidance](https://www.practicaldatascience.org/html/autograder_guidelines.html) for submitting this assignment to the Gradescope autograder, including storing your solutions in a dictionary called `results` and ensuring your notebook runs from the start to completion without any errors.\n",
    "\n",
    "For this assignment, please name your file `exercise_groupby.ipynb` before uploading.\n",
    "\n",
    "You can check that you have answers for all questions in your `results` dictionary with this code:\n",
    "\n",
    "```python\n",
    "assert set(results.keys()) == {\n",
    "    \"ex4_num_rows\",\n",
    "    \"ex5_collapsed_vars\",\n",
    "    \"ex7_alameda_1980_share_violent_arrestees_black\",\n",
    "    \"ex11_white_drug_share\",\n",
    "    \"ex11_black_drug_share\",\n",
    "    \"ex12_proportionate\",\n",
    "}\n",
    "```\n",
    "\n",
    "\n",
    "### Submission Limits\n",
    "\n",
    "Please remember that you are **only allowed three submissions to the autograder.** Your last submission (if you submit 3 or fewer times), or your third submission (if you submit more than 3 times) will determine your grade Submissions that error out will **not** count against this total."
   ]
  },
  {
   "cell_type": "markdown",
   "metadata": {},
   "source": [
    "### Exercise 1\n",
    "\n",
    "Import the raw California arrest data from the State Attorney General's office. Please use [this link](https://github.com/nickeubank/MIDS_Data/blob/master/OnlineArrestData1980-2021.csv) (the original is here [here](https://openjustice.doj.ca.gov/data), but they keep updating it and I get tired of updating solutions, so... please use my copy!)"
   ]
  },
  {
   "cell_type": "code",
   "execution_count": 1,
   "metadata": {},
   "outputs": [],
   "source": [
    "import pandas as pd\n",
    "import warnings\n",
    "\n",
    "warnings.filterwarnings(\"ignore\")\n",
    "pd.set_option(\"mode.copy_on_write\", True)\n",
    "\n",
    "data_1 = (\n",
    "    \"https://github.com/nickeubank/MIDS_Data/raw/master/OnlineArrestData1980-2021.csv\"\n",
    ")\n",
    "\n",
    "arrests = pd.read_csv(data_1)"
   ]
  },
  {
   "cell_type": "markdown",
   "metadata": {},
   "source": [
    "## Learning the Group Structure of Your Data\n",
    "\n",
    "### Exercise 2\n",
    "\n",
    "What is the unit of observation for this dataset? In other words, when row zero says that there were 505 arrests for `VIOLENT` crimes, what exactly is that telling you—505 arrests in 1980? 505 arrests in Alameda County?\n",
    "\n",
    "(Please answer in Markdown)"
   ]
  },
  {
   "cell_type": "code",
   "execution_count": 2,
   "metadata": {},
   "outputs": [
    {
     "data": {
      "text/html": [
       "<div>\n",
       "<style scoped>\n",
       "    .dataframe tbody tr th:only-of-type {\n",
       "        vertical-align: middle;\n",
       "    }\n",
       "\n",
       "    .dataframe tbody tr th {\n",
       "        vertical-align: top;\n",
       "    }\n",
       "\n",
       "    .dataframe thead th {\n",
       "        text-align: right;\n",
       "    }\n",
       "</style>\n",
       "<table border=\"1\" class=\"dataframe\">\n",
       "  <thead>\n",
       "    <tr style=\"text-align: right;\">\n",
       "      <th></th>\n",
       "      <th>YEAR</th>\n",
       "      <th>GENDER</th>\n",
       "      <th>RACE</th>\n",
       "      <th>AGE_GROUP</th>\n",
       "      <th>COUNTY</th>\n",
       "      <th>VIOLENT</th>\n",
       "      <th>PROPERTY</th>\n",
       "      <th>F_DRUGOFF</th>\n",
       "      <th>F_SEXOFF</th>\n",
       "      <th>F_ALLOTHER</th>\n",
       "      <th>F_TOTAL</th>\n",
       "      <th>M_TOTAL</th>\n",
       "      <th>S_TOTAL</th>\n",
       "    </tr>\n",
       "  </thead>\n",
       "  <tbody>\n",
       "    <tr>\n",
       "      <th>0</th>\n",
       "      <td>1980</td>\n",
       "      <td>Male</td>\n",
       "      <td>Black</td>\n",
       "      <td>Under 18</td>\n",
       "      <td>Alameda County</td>\n",
       "      <td>505</td>\n",
       "      <td>1351</td>\n",
       "      <td>188</td>\n",
       "      <td>26</td>\n",
       "      <td>79</td>\n",
       "      <td>2149</td>\n",
       "      <td>2286</td>\n",
       "      <td>295</td>\n",
       "    </tr>\n",
       "    <tr>\n",
       "      <th>1</th>\n",
       "      <td>1980</td>\n",
       "      <td>Male</td>\n",
       "      <td>Black</td>\n",
       "      <td>18 to 19</td>\n",
       "      <td>Alameda County</td>\n",
       "      <td>205</td>\n",
       "      <td>465</td>\n",
       "      <td>183</td>\n",
       "      <td>8</td>\n",
       "      <td>48</td>\n",
       "      <td>909</td>\n",
       "      <td>1333</td>\n",
       "      <td>0</td>\n",
       "    </tr>\n",
       "    <tr>\n",
       "      <th>2</th>\n",
       "      <td>1980</td>\n",
       "      <td>Male</td>\n",
       "      <td>Black</td>\n",
       "      <td>20 to 29</td>\n",
       "      <td>Alameda County</td>\n",
       "      <td>949</td>\n",
       "      <td>1593</td>\n",
       "      <td>606</td>\n",
       "      <td>27</td>\n",
       "      <td>178</td>\n",
       "      <td>3353</td>\n",
       "      <td>7974</td>\n",
       "      <td>0</td>\n",
       "    </tr>\n",
       "    <tr>\n",
       "      <th>3</th>\n",
       "      <td>1980</td>\n",
       "      <td>Male</td>\n",
       "      <td>Black</td>\n",
       "      <td>30 to 39</td>\n",
       "      <td>Alameda County</td>\n",
       "      <td>450</td>\n",
       "      <td>755</td>\n",
       "      <td>241</td>\n",
       "      <td>18</td>\n",
       "      <td>110</td>\n",
       "      <td>1574</td>\n",
       "      <td>4876</td>\n",
       "      <td>0</td>\n",
       "    </tr>\n",
       "    <tr>\n",
       "      <th>4</th>\n",
       "      <td>1980</td>\n",
       "      <td>Male</td>\n",
       "      <td>Black</td>\n",
       "      <td>40 to 69</td>\n",
       "      <td>Alameda County</td>\n",
       "      <td>172</td>\n",
       "      <td>218</td>\n",
       "      <td>117</td>\n",
       "      <td>11</td>\n",
       "      <td>66</td>\n",
       "      <td>584</td>\n",
       "      <td>3836</td>\n",
       "      <td>0</td>\n",
       "    </tr>\n",
       "  </tbody>\n",
       "</table>\n",
       "</div>"
      ],
      "text/plain": [
       "   YEAR GENDER   RACE AGE_GROUP          COUNTY  VIOLENT  PROPERTY  F_DRUGOFF  \\\n",
       "0  1980   Male  Black  Under 18  Alameda County      505      1351        188   \n",
       "1  1980   Male  Black  18 to 19  Alameda County      205       465        183   \n",
       "2  1980   Male  Black  20 to 29  Alameda County      949      1593        606   \n",
       "3  1980   Male  Black  30 to 39  Alameda County      450       755        241   \n",
       "4  1980   Male  Black  40 to 69  Alameda County      172       218        117   \n",
       "\n",
       "   F_SEXOFF  F_ALLOTHER  F_TOTAL  M_TOTAL  S_TOTAL  \n",
       "0        26          79     2149     2286      295  \n",
       "1         8          48      909     1333        0  \n",
       "2        27         178     3353     7974        0  \n",
       "3        18         110     1574     4876        0  \n",
       "4        11          66      584     3836        0  "
      ]
     },
     "execution_count": 2,
     "metadata": {},
     "output_type": "execute_result"
    }
   ],
   "source": [
    "arrests.head()"
   ]
  },
  {
   "cell_type": "markdown",
   "metadata": {},
   "source": [
    "<span style=\"color: #008080\">**Exercise 2 Answer**\n",
    "\n",
    "<span style=\"color: #008080\">Each row describes the distribution of arrests in the given year for a specified group of people(by gender, race, age) in the chosen county.</span> "
   ]
  },
  {
   "cell_type": "markdown",
   "metadata": {},
   "source": [
    "### Testing Your Assumptions\n",
    "\n",
    "It's important to be able to test whether the data you are working with really is organized the way you think it is, especially when working with groupby. Let's discuss how to check your answer to Exercise 2 with the `.duplicated()` method. \n",
    "\n",
    "Consider the following toy data:"
   ]
  },
  {
   "cell_type": "code",
   "execution_count": 3,
   "metadata": {},
   "outputs": [
    {
     "data": {
      "text/html": [
       "<div>\n",
       "<style scoped>\n",
       "    .dataframe tbody tr th:only-of-type {\n",
       "        vertical-align: middle;\n",
       "    }\n",
       "\n",
       "    .dataframe tbody tr th {\n",
       "        vertical-align: top;\n",
       "    }\n",
       "\n",
       "    .dataframe thead th {\n",
       "        text-align: right;\n",
       "    }\n",
       "</style>\n",
       "<table border=\"1\" class=\"dataframe\">\n",
       "  <thead>\n",
       "    <tr style=\"text-align: right;\">\n",
       "      <th></th>\n",
       "      <th>social_security_numbers</th>\n",
       "      <th>second_column</th>\n",
       "    </tr>\n",
       "  </thead>\n",
       "  <tbody>\n",
       "    <tr>\n",
       "      <th>0</th>\n",
       "      <td>111111111</td>\n",
       "      <td>a</td>\n",
       "    </tr>\n",
       "    <tr>\n",
       "      <th>1</th>\n",
       "      <td>222222222</td>\n",
       "      <td>a</td>\n",
       "    </tr>\n",
       "    <tr>\n",
       "      <th>2</th>\n",
       "      <td>222222222</td>\n",
       "      <td>a</td>\n",
       "    </tr>\n",
       "    <tr>\n",
       "      <th>3</th>\n",
       "      <td>333333333</td>\n",
       "      <td>a</td>\n",
       "    </tr>\n",
       "    <tr>\n",
       "      <th>4</th>\n",
       "      <td>333333333</td>\n",
       "      <td>b</td>\n",
       "    </tr>\n",
       "  </tbody>\n",
       "</table>\n",
       "</div>"
      ],
      "text/plain": [
       "   social_security_numbers second_column\n",
       "0                111111111             a\n",
       "1                222222222             a\n",
       "2                222222222             a\n",
       "3                333333333             a\n",
       "4                333333333             b"
      ]
     },
     "execution_count": 3,
     "metadata": {},
     "output_type": "execute_result"
    }
   ],
   "source": [
    "import pandas as pd\n",
    "\n",
    "df = pd.DataFrame(\n",
    "    {\n",
    "        \"social_security_numbers\": [\n",
    "            111111111,\n",
    "            222222222,\n",
    "            222222222,\n",
    "            333333333,\n",
    "            333333333,\n",
    "        ],\n",
    "        \"second_column\": [\"a\", \"a\", \"a\", \"a\", \"b\"],\n",
    "    }\n",
    ")\n",
    "df"
   ]
  },
  {
   "cell_type": "markdown",
   "metadata": {},
   "source": [
    "If we want to see if there are any duplicate rows in the dataset, we can use the `.duplicated()` method:"
   ]
  },
  {
   "cell_type": "code",
   "execution_count": 4,
   "metadata": {},
   "outputs": [
    {
     "data": {
      "text/plain": [
       "0    False\n",
       "1    False\n",
       "2     True\n",
       "3    False\n",
       "4    False\n",
       "dtype: bool"
      ]
     },
     "execution_count": 4,
     "metadata": {},
     "output_type": "execute_result"
    }
   ],
   "source": [
    "df.duplicated()"
   ]
  },
  {
   "cell_type": "markdown",
   "metadata": {},
   "source": [
    "As you can see, `.duplicated()` looks at each row and returns `True` if it has seen the row it is looking at before. \n",
    "\n",
    "Notice that `.duplicted()` doesn't return `True` for *all* rows that look the same as another row in the data—it treats the first instance of a row as unique, and only tags *subsequent* repetitions as \"duplicates\" (You can change this behavior with the `keep` keyword argument if you want).\n",
    "\n",
    "`.duplicated()` can also be used to test for rows that are duplicates in terms of a sub-set of columns. For example, `df.duplicated([\"social_security_numbers\"])` identifies rows with duplicate values of the variable `social_security_numbers`:"
   ]
  },
  {
   "cell_type": "code",
   "execution_count": 5,
   "metadata": {},
   "outputs": [
    {
     "data": {
      "text/plain": [
       "0    False\n",
       "1    False\n",
       "2     True\n",
       "3    False\n",
       "4     True\n",
       "dtype: bool"
      ]
     },
     "execution_count": 5,
     "metadata": {},
     "output_type": "execute_result"
    }
   ],
   "source": [
    "df.duplicated([\"social_security_numbers\"])"
   ]
  },
  {
   "cell_type": "markdown",
   "metadata": {},
   "source": [
    "Since `duplicated` is now only looking at `social_security_numbers` (not all values in a row), the last row is now a duplicate (because `333333333` is duplicated), where when we considered all columns, it was not a duplicate. "
   ]
  },
  {
   "cell_type": "markdown",
   "metadata": {},
   "source": [
    "### Testing with .duplicated()\n",
    "\n",
    "`.duplicated()` can be paired with the `.any()` method to write `assert` tests to detect the presence of duplicates in our dataset and to validate our assumptions about whether certain variables uniquely identify observations in our data.\n",
    "\n",
    "When you run `.any()` on an array of Booleans, it returns a single value of `True` if *any* entries are `True`, and a single value of `False` if *no* entries are `True`. (You can also use `.all()` to test if all entries are `False`).\n",
    "\n",
    "Thus the command `df.duplicated(['social_security_numbers'])` will return `False` if `social_security_numbers` uniquely identifies every row in our dataset (since there are no duplicates)! But if there *are* any duplicates, it will return `True`:"
   ]
  },
  {
   "cell_type": "code",
   "execution_count": 6,
   "metadata": {},
   "outputs": [],
   "source": [
    "# df.duplicated([\"social_security_numbers\"]).any()"
   ]
  },
  {
   "cell_type": "markdown",
   "metadata": {},
   "source": [
    "So if I wanted a test that would raise an `Error` if it turned out that `social_security_numbers` *didn't* uniquely identify observations, I would combine that code with `assert not`:\n",
    "\n",
    "```python\n",
    "assert not df.duplicated([\"social_security_numbers\"]).any()\n",
    "\n",
    "---------------------------------------------------------------------------\n",
    "AssertionError                            Traceback (most recent call last)\n",
    "Cell In [20], line 1\n",
    "----> 1 assert not df.duplicated([\"social_security_numbers\"]).any()\n",
    "\n",
    "AssertionError: \n",
    "```"
   ]
  },
  {
   "cell_type": "markdown",
   "metadata": {},
   "source": [
    "(which in this case raises an Error because `social_security_numbers` *isn't* unique!)\n",
    "\n",
    "BTW, if this feels oddly familiar, that's probably because we talked about this same idea when discussing merging. A `1:1` merge is one in which the merging variables uniquely identify observations in both datasets."
   ]
  },
  {
   "cell_type": "markdown",
   "metadata": {},
   "source": [
    "### Exercise 3\n",
    "\n",
    "Use `duplicated` to test if the variables *you* think uniquely identify rows in your data really do uniquely identify rows. If you were wrong, update your beliefs (and your code) until you have an `assert` statement that passes."
   ]
  },
  {
   "cell_type": "code",
   "execution_count": 7,
   "metadata": {},
   "outputs": [
    {
     "data": {
      "text/plain": [
       "False"
      ]
     },
     "execution_count": 7,
     "metadata": {},
     "output_type": "execute_result"
    }
   ],
   "source": [
    "arrests.duplicated().any()"
   ]
  },
  {
   "cell_type": "markdown",
   "metadata": {},
   "source": [
    "<span style=\"color: #008080\">``False`` means there are no completely duplicated rows in arrests DataFrame, which is a good sign indicating that the data does not have redundancy."
   ]
  },
  {
   "cell_type": "code",
   "execution_count": 8,
   "metadata": {},
   "outputs": [
    {
     "data": {
      "text/plain": [
       "False"
      ]
     },
     "execution_count": 8,
     "metadata": {},
     "output_type": "execute_result"
    }
   ],
   "source": [
    "columns = [\"YEAR\", \"COUNTY\", \"GENDER\", \"RACE\", \"AGE_GROUP\"]\n",
    "duplicates = arrests.duplicated(subset=columns).any()\n",
    "duplicates"
   ]
  },
  {
   "cell_type": "markdown",
   "metadata": {},
   "source": [
    "<span style=\"color: #008080\">The result ``False`` indicates no duplicate rows based on the selected columns \"YEAR\", \"COUNTY\", \"GENDER\", \"RACE\", and \"AGE_GROUP\", confirming each record in the dataset is unique."
   ]
  },
  {
   "cell_type": "code",
   "execution_count": 9,
   "metadata": {},
   "outputs": [],
   "source": [
    "assert not arrests.duplicated(subset=columns).any()"
   ]
  },
  {
   "cell_type": "markdown",
   "metadata": {},
   "source": [
    "<span style=\"color: #008080\">We don't see any error message, that means the assertion passed, and there are no duplicate rows based on the specified columns. "
   ]
  },
  {
   "cell_type": "markdown",
   "metadata": {},
   "source": [
    "### Exercise 4\n",
    "\n",
    "Once you have a handle on how the data looks now, please **collapse the data** to be one observation per county-year-racial group. Store the number of rows in the resulting dataframe in your `results` dictionary under the key `\"ex4_num_rows\"`.\n",
    "\n",
    "**Hint:** Think carefully about the most appropriate *aggregation function* (e.g., mean, median, sum, count) given the data we're working with!\n",
    "\n",
    "**Hint 2:** When using `groupby`, I am a HUGE fan of the `as_index=False` keyword argument (e.g., `df.groupby(\"col1\", as_index=False).mean()`). By default when you use groupby, pandas likes to make a new index out of the grouping columns. As you know, I HATE indices, and this keyword argument prevents pandas from this behavior. To illustrate:"
   ]
  },
  {
   "cell_type": "code",
   "execution_count": 10,
   "metadata": {},
   "outputs": [
    {
     "data": {
      "text/html": [
       "<div>\n",
       "<style scoped>\n",
       "    .dataframe tbody tr th:only-of-type {\n",
       "        vertical-align: middle;\n",
       "    }\n",
       "\n",
       "    .dataframe tbody tr th {\n",
       "        vertical-align: top;\n",
       "    }\n",
       "\n",
       "    .dataframe thead th {\n",
       "        text-align: right;\n",
       "    }\n",
       "</style>\n",
       "<table border=\"1\" class=\"dataframe\">\n",
       "  <thead>\n",
       "    <tr style=\"text-align: right;\">\n",
       "      <th></th>\n",
       "      <th>social_security_numbers</th>\n",
       "      <th>second_column</th>\n",
       "      <th>third_column</th>\n",
       "    </tr>\n",
       "  </thead>\n",
       "  <tbody>\n",
       "    <tr>\n",
       "      <th>0</th>\n",
       "      <td>111111111</td>\n",
       "      <td>a</td>\n",
       "      <td>100</td>\n",
       "    </tr>\n",
       "    <tr>\n",
       "      <th>1</th>\n",
       "      <td>222222222</td>\n",
       "      <td>a</td>\n",
       "      <td>200</td>\n",
       "    </tr>\n",
       "    <tr>\n",
       "      <th>2</th>\n",
       "      <td>222222222</td>\n",
       "      <td>b</td>\n",
       "      <td>300</td>\n",
       "    </tr>\n",
       "    <tr>\n",
       "      <th>3</th>\n",
       "      <td>222222222</td>\n",
       "      <td>a</td>\n",
       "      <td>400</td>\n",
       "    </tr>\n",
       "    <tr>\n",
       "      <th>4</th>\n",
       "      <td>333333333</td>\n",
       "      <td>b</td>\n",
       "      <td>500</td>\n",
       "    </tr>\n",
       "  </tbody>\n",
       "</table>\n",
       "</div>"
      ],
      "text/plain": [
       "   social_security_numbers second_column  third_column\n",
       "0                111111111             a           100\n",
       "1                222222222             a           200\n",
       "2                222222222             b           300\n",
       "3                222222222             a           400\n",
       "4                333333333             b           500"
      ]
     },
     "execution_count": 10,
     "metadata": {},
     "output_type": "execute_result"
    }
   ],
   "source": [
    "df = pd.DataFrame(\n",
    "    {\n",
    "        \"social_security_numbers\": [\n",
    "            111111111,\n",
    "            222222222,\n",
    "            222222222,\n",
    "            222222222,\n",
    "            333333333,\n",
    "        ],\n",
    "        \"second_column\": [\"a\", \"a\", \"b\", \"a\", \"b\"],\n",
    "        \"third_column\": [100, 200, 300, 400, 500],\n",
    "    }\n",
    ")\n",
    "df"
   ]
  },
  {
   "cell_type": "code",
   "execution_count": 11,
   "metadata": {},
   "outputs": [
    {
     "data": {
      "text/html": [
       "<div>\n",
       "<style scoped>\n",
       "    .dataframe tbody tr th:only-of-type {\n",
       "        vertical-align: middle;\n",
       "    }\n",
       "\n",
       "    .dataframe tbody tr th {\n",
       "        vertical-align: top;\n",
       "    }\n",
       "\n",
       "    .dataframe thead th {\n",
       "        text-align: right;\n",
       "    }\n",
       "</style>\n",
       "<table border=\"1\" class=\"dataframe\">\n",
       "  <thead>\n",
       "    <tr style=\"text-align: right;\">\n",
       "      <th></th>\n",
       "      <th></th>\n",
       "      <th>third_column</th>\n",
       "    </tr>\n",
       "    <tr>\n",
       "      <th>social_security_numbers</th>\n",
       "      <th>second_column</th>\n",
       "      <th></th>\n",
       "    </tr>\n",
       "  </thead>\n",
       "  <tbody>\n",
       "    <tr>\n",
       "      <th>111111111</th>\n",
       "      <th>a</th>\n",
       "      <td>100.0</td>\n",
       "    </tr>\n",
       "    <tr>\n",
       "      <th rowspan=\"2\" valign=\"top\">222222222</th>\n",
       "      <th>a</th>\n",
       "      <td>300.0</td>\n",
       "    </tr>\n",
       "    <tr>\n",
       "      <th>b</th>\n",
       "      <td>300.0</td>\n",
       "    </tr>\n",
       "    <tr>\n",
       "      <th>333333333</th>\n",
       "      <th>b</th>\n",
       "      <td>500.0</td>\n",
       "    </tr>\n",
       "  </tbody>\n",
       "</table>\n",
       "</div>"
      ],
      "text/plain": [
       "                                       third_column\n",
       "social_security_numbers second_column              \n",
       "111111111               a                     100.0\n",
       "222222222               a                     300.0\n",
       "                        b                     300.0\n",
       "333333333               b                     500.0"
      ]
     },
     "execution_count": 11,
     "metadata": {},
     "output_type": "execute_result"
    }
   ],
   "source": [
    "# Without as_index=False\n",
    "df.groupby([\"social_security_numbers\", \"second_column\"]).mean()"
   ]
  },
  {
   "cell_type": "code",
   "execution_count": 12,
   "metadata": {},
   "outputs": [
    {
     "data": {
      "text/html": [
       "<div>\n",
       "<style scoped>\n",
       "    .dataframe tbody tr th:only-of-type {\n",
       "        vertical-align: middle;\n",
       "    }\n",
       "\n",
       "    .dataframe tbody tr th {\n",
       "        vertical-align: top;\n",
       "    }\n",
       "\n",
       "    .dataframe thead th {\n",
       "        text-align: right;\n",
       "    }\n",
       "</style>\n",
       "<table border=\"1\" class=\"dataframe\">\n",
       "  <thead>\n",
       "    <tr style=\"text-align: right;\">\n",
       "      <th></th>\n",
       "      <th>social_security_numbers</th>\n",
       "      <th>second_column</th>\n",
       "      <th>third_column</th>\n",
       "    </tr>\n",
       "  </thead>\n",
       "  <tbody>\n",
       "    <tr>\n",
       "      <th>0</th>\n",
       "      <td>111111111</td>\n",
       "      <td>a</td>\n",
       "      <td>100.0</td>\n",
       "    </tr>\n",
       "    <tr>\n",
       "      <th>1</th>\n",
       "      <td>222222222</td>\n",
       "      <td>a</td>\n",
       "      <td>300.0</td>\n",
       "    </tr>\n",
       "    <tr>\n",
       "      <th>2</th>\n",
       "      <td>222222222</td>\n",
       "      <td>b</td>\n",
       "      <td>300.0</td>\n",
       "    </tr>\n",
       "    <tr>\n",
       "      <th>3</th>\n",
       "      <td>333333333</td>\n",
       "      <td>b</td>\n",
       "      <td>500.0</td>\n",
       "    </tr>\n",
       "  </tbody>\n",
       "</table>\n",
       "</div>"
      ],
      "text/plain": [
       "   social_security_numbers second_column  third_column\n",
       "0                111111111             a         100.0\n",
       "1                222222222             a         300.0\n",
       "2                222222222             b         300.0\n",
       "3                333333333             b         500.0"
      ]
     },
     "execution_count": 12,
     "metadata": {},
     "output_type": "execute_result"
    }
   ],
   "source": [
    "# With as_index=False\n",
    "df.groupby([\"social_security_numbers\", \"second_column\"], as_index=False).mean()"
   ]
  },
  {
   "cell_type": "code",
   "execution_count": 13,
   "metadata": {},
   "outputs": [
    {
     "name": "stdout",
     "output_type": "stream",
     "text": [
      "Collapsed the data to be one observation per county-year-racial group, the dataframe contains 9702 rows.\n"
     ]
    }
   ],
   "source": [
    "# groupby\n",
    "grouped_data = arrests.groupby([\"YEAR\", \"COUNTY\", \"RACE\"], as_index=False).sum()\n",
    "\n",
    "results = {}\n",
    "ex4_num_rows = grouped_data.shape[0]  # confusion with iloc\n",
    "results[\"ex4_num_rows\"] = ex4_num_rows\n",
    "\n",
    "print(\n",
    "    f\"Collapsed the data to be one observation per county-year-racial group, the dataframe contains {(ex4_num_rows):} rows.\"\n",
    ")"
   ]
  },
  {
   "cell_type": "markdown",
   "metadata": {},
   "source": [
    "### Exercise 5\n",
    "\n",
    "You should notice that there are significantly fewer rows in the data now. Given your answer from 3, what groups were you *collapsing* in question 4 (in other words, which different groups were previously split out into separate rows but have now been aggregated into the same rows)?\n",
    "\n",
    "Store the names of those variables **in a `list` in alphabetical order** in `results` as `\"ex5_collapsed_vars\"`."
   ]
  },
  {
   "cell_type": "markdown",
   "metadata": {},
   "source": [
    "<span style=\"color: #008080\">In Exercise 3, we found that the combination of \"YEAR\", \"COUNTY\", \"GENDER\", \"RACE\", and \"AGE_GROUP\" uniquely identified each row in the dataset. However, in Exercise 4 we collapsed the data to one observation per county-year-racial group. This means that the data was combined so that each row represents a combination of county, year, and racial group, regardless of the different genders and ages within those groups."
   ]
  },
  {
   "cell_type": "code",
   "execution_count": 14,
   "metadata": {},
   "outputs": [
    {
     "data": {
      "text/plain": [
       "{'ex4_num_rows': 9702, 'ex5_collapsed_vars': ['AGE_GROUP', 'GENDER']}"
      ]
     },
     "execution_count": 14,
     "metadata": {},
     "output_type": "execute_result"
    }
   ],
   "source": [
    "list_age_gender = sorted([\"AGE_GROUP\", \"GENDER\"])\n",
    "results[\"ex5_collapsed_vars\"] = list_age_gender\n",
    "results"
   ]
  },
  {
   "cell_type": "markdown",
   "metadata": {},
   "source": [
    "## Racial Arrest Composition\n",
    "\n",
    "The next question we want to ask is: does the racial composition of arrests in each county vary by arrest type? In other words, do Blacks, Hispanics, Whites, and Other make up substantially different portions of the people arrested for drug offenses and violent offenses?\n",
    "\n",
    "To answer this question, we need to be able to say what proportion of all drug arrestees were Black/White/Hispanic/Other and what proportion of all violent arrestees were Black/White/Hispanic/Other *for each county and for each year*.\n",
    "\n",
    "In trying to do this, we'll need to break the problem down into pieces, starting from our goal (these quantities) and working backwards.\n",
    "\n",
    "### Exercise 6\n",
    "\n",
    "To calculate the share of all drug and violent arrestees who come from each racial group, what quantities do we need? \n",
    "\n",
    "Expressed differently, what two variables (one for drug arrests, one for violent arrests) do we need to add to our data to it allow us to calculate the share of arrestees in each county-year that come from a given racial group?\n",
    "\n",
    "Calculate these two variables (one variable for drug arrests, one for violent arrests). \n",
    "\n",
    "**Hint:** `transform` should probably make an appearance here."
   ]
  },
  {
   "cell_type": "markdown",
   "metadata": {},
   "source": [
    "**Hint:** This types of groupby manipulations are an easy place to do things wrong, so it's important to eye-ball your data to be sure you did things right! \n",
    "\n",
    "Take a look at the data for, say, Alameda County in 1980, and compare the values that you calculate above with what you get if you try to calculate those same numbers by hand using the raw data from Exercise 5?"
   ]
  },
  {
   "cell_type": "code",
   "execution_count": 15,
   "metadata": {},
   "outputs": [],
   "source": [
    "# groupby county and year, calculate the sum of drug arrests and violent arrests\n",
    "grouped_data[\"total_drug_arrests\"] = grouped_data.groupby([\"COUNTY\", \"YEAR\"])[\n",
    "    \"F_DRUGOFF\"\n",
    "].transform(\"sum\")\n",
    "grouped_data[\"total_violent_arrests\"] = grouped_data.groupby([\"COUNTY\", \"YEAR\"])[\n",
    "    \"VIOLENT\"\n",
    "].transform(\"sum\")\n",
    "\n",
    "# share of drug and violent arrests for each race\n",
    "grouped_data[\"share_drug_arrests\"] = (\n",
    "    grouped_data[\"F_DRUGOFF\"] / grouped_data[\"total_drug_arrests\"]\n",
    ")\n",
    "grouped_data[\"share_violent_arrests\"] = (\n",
    "    grouped_data[\"VIOLENT\"] / grouped_data[\"total_violent_arrests\"]\n",
    ")"
   ]
  },
  {
   "cell_type": "markdown",
   "metadata": {},
   "source": [
    "### Exercise 7\n",
    "\n",
    "Now calculate the share of violent and drug arrestees in each county and year from each racial group.\n",
    "\n",
    "To ensure you're on the right track, store the share (between zero and one) of violent arrestees in Alameda County in 1980 who were Black as `ex7_alameda_1980_share_violent_arrestees_black`."
   ]
  },
  {
   "cell_type": "code",
   "execution_count": 16,
   "metadata": {},
   "outputs": [
    {
     "data": {
      "text/plain": [
       "{'ex4_num_rows': 9702,\n",
       " 'ex5_collapsed_vars': ['AGE_GROUP', 'GENDER'],\n",
       " 'ex7_alameda_1980_share_violent_arrestees_black': 0.5759325044404974}"
      ]
     },
     "execution_count": 16,
     "metadata": {},
     "output_type": "execute_result"
    }
   ],
   "source": [
    "# filter Alameda in 1980\n",
    "alameda_1980 = grouped_data[\n",
    "    (grouped_data[\"COUNTY\"] == \"Alameda County\") & (grouped_data[\"YEAR\"] == 1980)\n",
    "]\n",
    "\n",
    "# share of black violent arrests\n",
    "share_black_arrests = alameda_1980[alameda_1980[\"RACE\"] == \"Black\"][\n",
    "    \"share_violent_arrests\"\n",
    "].iloc[0]\n",
    "\n",
    "results[\"ex7_alameda_1980_share_violent_arrestees_black\"] = share_black_arrests\n",
    "results"
   ]
  },
  {
   "cell_type": "markdown",
   "metadata": {},
   "source": [
    "### Exercise 8\n",
    "\n",
    "We're about to start studying this data by plotting the share of violent arrestees that are Black against the share of felony drug arrestees that are Black. But the moment where you finish your data manipulations and are about to start you data analysis is a *great* time to just make sure everything in your data looks good. Let's run a few checks:\n",
    "\n",
    "- Are your values of the share of felony arrestees who were arrested for violent crimes sensible?\n",
    "- You're about to analyze the data using only the rows for the Black racial group. How many unique counties are there with data for Black arrestees? How many for White arrestees? Do you remember how many counties there are in CA (google is your friend if not!)?\n",
    "\n",
    "Include assert statements to check all these features of your data.\n",
    "\n",
    "(Reminder: the autograder will only work if you are entire notebook runs without errors.)\n",
    "\n",
    "If you encounter any problems, make sure you understand why they are happening, and fix them (if a fix is appropriate!)."
   ]
  },
  {
   "cell_type": "code",
   "execution_count": 17,
   "metadata": {},
   "outputs": [],
   "source": [
    "assert grouped_data[grouped_data[\"RACE\"] == \"Black\"][\"share_violent_arrests\"].all() <= 1\n",
    "assert grouped_data[grouped_data[\"RACE\"] == \"Black\"][\"share_violent_arrests\"].all() >= 0\n",
    "\n",
    "assert grouped_data[grouped_data[\"RACE\"] == \"Black\"][\"share_drug_arrests\"].all() >= 0\n",
    "assert grouped_data[grouped_data[\"RACE\"] == \"Black\"][\"share_drug_arrests\"].all() <= 1"
   ]
  },
  {
   "cell_type": "code",
   "execution_count": 18,
   "metadata": {},
   "outputs": [
    {
     "name": "stdout",
     "output_type": "stream",
     "text": [
      "58\n",
      "58\n"
     ]
    }
   ],
   "source": [
    "black_group = grouped_data[grouped_data[\"RACE\"] == \"Black\"][\"COUNTY\"].unique()\n",
    "len(black_group)\n",
    "white_group = grouped_data[grouped_data[\"RACE\"] == \"White\"][\"COUNTY\"].unique()\n",
    "len(white_group)\n",
    "\n",
    "print(len(black_group))\n",
    "print(len(white_group))"
   ]
  },
  {
   "cell_type": "markdown",
   "metadata": {},
   "source": [
    "<span style=\"color: #008080\">There are 58 counties in CA, and our results show that we have data for both black and white racial group in all of the CA counties."
   ]
  },
  {
   "cell_type": "markdown",
   "metadata": {},
   "source": [
    "### Exercise 9\n",
    "\n",
    "Now check to see if you have the same number of counties *in each year for each racial group*.\n",
    "\n",
    "Can you figure out why there aren't? (Hint: this isn't trivial to figure out! You'll probably have to do some detective work, and even then you'll have to make a bit of a \"best guess\" at what's going on!)"
   ]
  },
  {
   "cell_type": "code",
   "execution_count": 20,
   "metadata": {},
   "outputs": [
    {
     "data": {
      "text/html": [
       "<div>\n",
       "<style scoped>\n",
       "    .dataframe tbody tr th:only-of-type {\n",
       "        vertical-align: middle;\n",
       "    }\n",
       "\n",
       "    .dataframe tbody tr th {\n",
       "        vertical-align: top;\n",
       "    }\n",
       "\n",
       "    .dataframe thead th {\n",
       "        text-align: right;\n",
       "    }\n",
       "</style>\n",
       "<table border=\"1\" class=\"dataframe\">\n",
       "  <thead>\n",
       "    <tr style=\"text-align: right;\">\n",
       "      <th>RACE</th>\n",
       "      <th>Black</th>\n",
       "      <th>Hispanic</th>\n",
       "      <th>Other</th>\n",
       "      <th>White</th>\n",
       "    </tr>\n",
       "    <tr>\n",
       "      <th>YEAR</th>\n",
       "      <th></th>\n",
       "      <th></th>\n",
       "      <th></th>\n",
       "      <th></th>\n",
       "    </tr>\n",
       "  </thead>\n",
       "  <tbody>\n",
       "    <tr>\n",
       "      <th>1980</th>\n",
       "      <td>55</td>\n",
       "      <td>57</td>\n",
       "      <td>58</td>\n",
       "      <td>58</td>\n",
       "    </tr>\n",
       "    <tr>\n",
       "      <th>1981</th>\n",
       "      <td>55</td>\n",
       "      <td>57</td>\n",
       "      <td>58</td>\n",
       "      <td>58</td>\n",
       "    </tr>\n",
       "    <tr>\n",
       "      <th>1982</th>\n",
       "      <td>55</td>\n",
       "      <td>57</td>\n",
       "      <td>58</td>\n",
       "      <td>58</td>\n",
       "    </tr>\n",
       "    <tr>\n",
       "      <th>1983</th>\n",
       "      <td>57</td>\n",
       "      <td>58</td>\n",
       "      <td>58</td>\n",
       "      <td>58</td>\n",
       "    </tr>\n",
       "    <tr>\n",
       "      <th>1984</th>\n",
       "      <td>55</td>\n",
       "      <td>57</td>\n",
       "      <td>58</td>\n",
       "      <td>58</td>\n",
       "    </tr>\n",
       "    <tr>\n",
       "      <th>1985</th>\n",
       "      <td>57</td>\n",
       "      <td>57</td>\n",
       "      <td>58</td>\n",
       "      <td>58</td>\n",
       "    </tr>\n",
       "    <tr>\n",
       "      <th>1986</th>\n",
       "      <td>55</td>\n",
       "      <td>57</td>\n",
       "      <td>58</td>\n",
       "      <td>58</td>\n",
       "    </tr>\n",
       "    <tr>\n",
       "      <th>1987</th>\n",
       "      <td>55</td>\n",
       "      <td>58</td>\n",
       "      <td>58</td>\n",
       "      <td>58</td>\n",
       "    </tr>\n",
       "    <tr>\n",
       "      <th>1988</th>\n",
       "      <td>57</td>\n",
       "      <td>58</td>\n",
       "      <td>58</td>\n",
       "      <td>58</td>\n",
       "    </tr>\n",
       "    <tr>\n",
       "      <th>1989</th>\n",
       "      <td>58</td>\n",
       "      <td>58</td>\n",
       "      <td>58</td>\n",
       "      <td>58</td>\n",
       "    </tr>\n",
       "    <tr>\n",
       "      <th>1990</th>\n",
       "      <td>56</td>\n",
       "      <td>58</td>\n",
       "      <td>58</td>\n",
       "      <td>58</td>\n",
       "    </tr>\n",
       "    <tr>\n",
       "      <th>1991</th>\n",
       "      <td>57</td>\n",
       "      <td>58</td>\n",
       "      <td>58</td>\n",
       "      <td>58</td>\n",
       "    </tr>\n",
       "    <tr>\n",
       "      <th>1992</th>\n",
       "      <td>57</td>\n",
       "      <td>58</td>\n",
       "      <td>58</td>\n",
       "      <td>58</td>\n",
       "    </tr>\n",
       "    <tr>\n",
       "      <th>1993</th>\n",
       "      <td>57</td>\n",
       "      <td>58</td>\n",
       "      <td>58</td>\n",
       "      <td>58</td>\n",
       "    </tr>\n",
       "    <tr>\n",
       "      <th>1994</th>\n",
       "      <td>58</td>\n",
       "      <td>58</td>\n",
       "      <td>58</td>\n",
       "      <td>58</td>\n",
       "    </tr>\n",
       "    <tr>\n",
       "      <th>1995</th>\n",
       "      <td>57</td>\n",
       "      <td>58</td>\n",
       "      <td>58</td>\n",
       "      <td>58</td>\n",
       "    </tr>\n",
       "    <tr>\n",
       "      <th>1996</th>\n",
       "      <td>57</td>\n",
       "      <td>58</td>\n",
       "      <td>58</td>\n",
       "      <td>58</td>\n",
       "    </tr>\n",
       "    <tr>\n",
       "      <th>1997</th>\n",
       "      <td>57</td>\n",
       "      <td>58</td>\n",
       "      <td>58</td>\n",
       "      <td>58</td>\n",
       "    </tr>\n",
       "    <tr>\n",
       "      <th>1998</th>\n",
       "      <td>58</td>\n",
       "      <td>58</td>\n",
       "      <td>58</td>\n",
       "      <td>58</td>\n",
       "    </tr>\n",
       "    <tr>\n",
       "      <th>1999</th>\n",
       "      <td>58</td>\n",
       "      <td>58</td>\n",
       "      <td>58</td>\n",
       "      <td>58</td>\n",
       "    </tr>\n",
       "    <tr>\n",
       "      <th>2000</th>\n",
       "      <td>58</td>\n",
       "      <td>58</td>\n",
       "      <td>57</td>\n",
       "      <td>58</td>\n",
       "    </tr>\n",
       "    <tr>\n",
       "      <th>2001</th>\n",
       "      <td>57</td>\n",
       "      <td>58</td>\n",
       "      <td>58</td>\n",
       "      <td>58</td>\n",
       "    </tr>\n",
       "    <tr>\n",
       "      <th>2002</th>\n",
       "      <td>58</td>\n",
       "      <td>58</td>\n",
       "      <td>58</td>\n",
       "      <td>58</td>\n",
       "    </tr>\n",
       "    <tr>\n",
       "      <th>2003</th>\n",
       "      <td>57</td>\n",
       "      <td>58</td>\n",
       "      <td>58</td>\n",
       "      <td>58</td>\n",
       "    </tr>\n",
       "    <tr>\n",
       "      <th>2004</th>\n",
       "      <td>58</td>\n",
       "      <td>58</td>\n",
       "      <td>58</td>\n",
       "      <td>58</td>\n",
       "    </tr>\n",
       "    <tr>\n",
       "      <th>2005</th>\n",
       "      <td>58</td>\n",
       "      <td>58</td>\n",
       "      <td>58</td>\n",
       "      <td>58</td>\n",
       "    </tr>\n",
       "    <tr>\n",
       "      <th>2006</th>\n",
       "      <td>58</td>\n",
       "      <td>58</td>\n",
       "      <td>58</td>\n",
       "      <td>58</td>\n",
       "    </tr>\n",
       "    <tr>\n",
       "      <th>2007</th>\n",
       "      <td>58</td>\n",
       "      <td>58</td>\n",
       "      <td>58</td>\n",
       "      <td>58</td>\n",
       "    </tr>\n",
       "    <tr>\n",
       "      <th>2008</th>\n",
       "      <td>58</td>\n",
       "      <td>58</td>\n",
       "      <td>58</td>\n",
       "      <td>58</td>\n",
       "    </tr>\n",
       "    <tr>\n",
       "      <th>2009</th>\n",
       "      <td>58</td>\n",
       "      <td>58</td>\n",
       "      <td>58</td>\n",
       "      <td>58</td>\n",
       "    </tr>\n",
       "    <tr>\n",
       "      <th>2010</th>\n",
       "      <td>58</td>\n",
       "      <td>58</td>\n",
       "      <td>58</td>\n",
       "      <td>58</td>\n",
       "    </tr>\n",
       "    <tr>\n",
       "      <th>2011</th>\n",
       "      <td>57</td>\n",
       "      <td>58</td>\n",
       "      <td>58</td>\n",
       "      <td>58</td>\n",
       "    </tr>\n",
       "    <tr>\n",
       "      <th>2012</th>\n",
       "      <td>57</td>\n",
       "      <td>58</td>\n",
       "      <td>58</td>\n",
       "      <td>58</td>\n",
       "    </tr>\n",
       "    <tr>\n",
       "      <th>2013</th>\n",
       "      <td>58</td>\n",
       "      <td>58</td>\n",
       "      <td>57</td>\n",
       "      <td>58</td>\n",
       "    </tr>\n",
       "    <tr>\n",
       "      <th>2014</th>\n",
       "      <td>57</td>\n",
       "      <td>58</td>\n",
       "      <td>58</td>\n",
       "      <td>58</td>\n",
       "    </tr>\n",
       "    <tr>\n",
       "      <th>2015</th>\n",
       "      <td>58</td>\n",
       "      <td>58</td>\n",
       "      <td>58</td>\n",
       "      <td>58</td>\n",
       "    </tr>\n",
       "    <tr>\n",
       "      <th>2016</th>\n",
       "      <td>58</td>\n",
       "      <td>58</td>\n",
       "      <td>58</td>\n",
       "      <td>58</td>\n",
       "    </tr>\n",
       "    <tr>\n",
       "      <th>2017</th>\n",
       "      <td>58</td>\n",
       "      <td>58</td>\n",
       "      <td>58</td>\n",
       "      <td>58</td>\n",
       "    </tr>\n",
       "    <tr>\n",
       "      <th>2018</th>\n",
       "      <td>58</td>\n",
       "      <td>58</td>\n",
       "      <td>58</td>\n",
       "      <td>58</td>\n",
       "    </tr>\n",
       "    <tr>\n",
       "      <th>2019</th>\n",
       "      <td>58</td>\n",
       "      <td>58</td>\n",
       "      <td>58</td>\n",
       "      <td>58</td>\n",
       "    </tr>\n",
       "    <tr>\n",
       "      <th>2020</th>\n",
       "      <td>58</td>\n",
       "      <td>58</td>\n",
       "      <td>58</td>\n",
       "      <td>58</td>\n",
       "    </tr>\n",
       "    <tr>\n",
       "      <th>2021</th>\n",
       "      <td>58</td>\n",
       "      <td>58</td>\n",
       "      <td>58</td>\n",
       "      <td>58</td>\n",
       "    </tr>\n",
       "  </tbody>\n",
       "</table>\n",
       "</div>"
      ],
      "text/plain": [
       "RACE  Black  Hispanic  Other  White\n",
       "YEAR                               \n",
       "1980     55        57     58     58\n",
       "1981     55        57     58     58\n",
       "1982     55        57     58     58\n",
       "1983     57        58     58     58\n",
       "1984     55        57     58     58\n",
       "1985     57        57     58     58\n",
       "1986     55        57     58     58\n",
       "1987     55        58     58     58\n",
       "1988     57        58     58     58\n",
       "1989     58        58     58     58\n",
       "1990     56        58     58     58\n",
       "1991     57        58     58     58\n",
       "1992     57        58     58     58\n",
       "1993     57        58     58     58\n",
       "1994     58        58     58     58\n",
       "1995     57        58     58     58\n",
       "1996     57        58     58     58\n",
       "1997     57        58     58     58\n",
       "1998     58        58     58     58\n",
       "1999     58        58     58     58\n",
       "2000     58        58     57     58\n",
       "2001     57        58     58     58\n",
       "2002     58        58     58     58\n",
       "2003     57        58     58     58\n",
       "2004     58        58     58     58\n",
       "2005     58        58     58     58\n",
       "2006     58        58     58     58\n",
       "2007     58        58     58     58\n",
       "2008     58        58     58     58\n",
       "2009     58        58     58     58\n",
       "2010     58        58     58     58\n",
       "2011     57        58     58     58\n",
       "2012     57        58     58     58\n",
       "2013     58        58     57     58\n",
       "2014     57        58     58     58\n",
       "2015     58        58     58     58\n",
       "2016     58        58     58     58\n",
       "2017     58        58     58     58\n",
       "2018     58        58     58     58\n",
       "2019     58        58     58     58\n",
       "2020     58        58     58     58\n",
       "2021     58        58     58     58"
      ]
     },
     "execution_count": 20,
     "metadata": {},
     "output_type": "execute_result"
    }
   ],
   "source": [
    "# in each year-race group is the same or not\n",
    "# grouped_new = arrests.groupby([\"YEAR\", \"RACE\"], as_index=False)[\"COUNTY\"].nunique()[\n",
    "#     [\"COUNTY\"]\n",
    "# ]\n",
    "grouped_new = arrests.groupby([\"YEAR\", \"RACE\"], as_index=False)[\"COUNTY\"].nunique()\n",
    "distribution = grouped_new.pivot(index=\"YEAR\", columns=\"RACE\", values=\"COUNTY\")\n",
    "\n",
    "# assert not ((grouped_new[\"COUNTY\"]) == grouped_new[\"COUNTY\"].iloc[0]).all()\n",
    "\n",
    "\n",
    "# grouped_new.head(5)\n",
    "distribution"
   ]
  },
  {
   "cell_type": "markdown",
   "metadata": {},
   "source": [
    "<span style=\"color: #008080\">The reason why there are different numbers of counties in each year for each racial group is because there are some of very small counties with very low number of total arrests (and usually they don't have arrests for each racial group in each year). And over the years the geografical distribution might be changed. "
   ]
  },
  {
   "cell_type": "markdown",
   "metadata": {},
   "source": [
    "### Exercise 10\n",
    "\n",
    "Once you think you have a theory of the case, fix the problem. Again, this will NOT be trivial."
   ]
  },
  {
   "cell_type": "code",
   "execution_count": 21,
   "metadata": {},
   "outputs": [],
   "source": [
    "filter_df = grouped_data[\n",
    "    [\n",
    "        \"YEAR\",\n",
    "        \"COUNTY\",\n",
    "        \"RACE\",\n",
    "        \"total_drug_arrests\",\n",
    "        \"total_violent_arrests\",\n",
    "        \"share_drug_arrests\",\n",
    "        \"share_violent_arrests\",\n",
    "    ]\n",
    "]\n",
    "years = filter_df[\"YEAR\"].unique()\n",
    "races = filter_df[\"RACE\"].unique()\n",
    "counties = filter_df[\"COUNTY\"].unique()\n",
    "\n",
    "template = pd.DataFrame(\n",
    "    [(year, race, county) for year in years for race in races for county in counties],\n",
    "    columns=[\"YEAR\", \"RACE\", \"COUNTY\"],\n",
    ")\n",
    "\n",
    "# Merge the template DataFrame with existing data, filling in missing values with 0\n",
    "merged_df = pd.merge(\n",
    "    template, filter_df, on=[\"YEAR\", \"COUNTY\", \"RACE\"], how=\"left\", indicator=True,\n",
    ").fillna(0)"
   ]
  },
  {
   "cell_type": "markdown",
   "metadata": {},
   "source": [
    "### Exercise 11\n",
    "\n",
    "Now that you have corrected your problem, averaging over the values for each county-year, calculate the average share of drug arrestees who are Black and the average share of drug arrestees who are White. Store the results as `\"ex11_white_drug_share\"` and `\"ex11_black_drug_share\"`."
   ]
  },
  {
   "cell_type": "code",
   "execution_count": 22,
   "metadata": {},
   "outputs": [
    {
     "name": "stdout",
     "output_type": "stream",
     "text": [
      "0.09186892492425296\n",
      "0.6185308181483383\n"
     ]
    }
   ],
   "source": [
    "ex11_black_drug_share = merged_df[merged_df[\"RACE\"] == \"Black\"][\n",
    "    \"share_drug_arrests\"\n",
    "].mean()\n",
    "print(ex11_black_drug_share)\n",
    "ex11_white_drug_share = merged_df[merged_df[\"RACE\"] == \"White\"][\n",
    "    \"share_drug_arrests\"\n",
    "].mean()\n",
    "print(ex11_white_drug_share)\n",
    "results[\"ex11_black_drug_share\"] = ex11_black_drug_share\n",
    "results[\"ex11_white_drug_share\"] = ex11_white_drug_share"
   ]
  },
  {
   "cell_type": "markdown",
   "metadata": {},
   "source": [
    "### Exercise 12\n",
    "\n",
    "Plot the share of violent arrestees that are Black against the share of felony drug arrestees that are Black. Do they look proportionate? Answer in text here.\n",
    "\n",
    "Do Black arrestees make up a greater share of violent arrestees, or a greater share of drug arrestees? Store you answer as `\"greater violent\"`, or `\"greater drug\"` in `\"ex12_proportionate\"`.\n",
    "\n",
    "**Hint:** You can add a 45 degree reference line by making a dummy dataset with one point at 0,0 and one point at a location near the top of your data (e.g. 0.7, 0.7). Without a reference line it's VERY hard to be sure if how your points relate to proportionality."
   ]
  },
  {
   "cell_type": "markdown",
   "metadata": {},
   "source": [
    "(A quick note of warning on interpretation: these results can tell you whether Black Californians make up a larger proportion of *arrests* for certain types of crimes, not whether they make up a larger proportion of people who *commit* a give type of crime! Those *might* be the same, but they might not... this data just can't answer that question.)"
   ]
  },
  {
   "cell_type": "code",
   "execution_count": 23,
   "metadata": {},
   "outputs": [
    {
     "data": {
      "image/png": "[encoded data removed]",
      "text/plain": [
       "<Figure size 640x480 with 1 Axes>"
      ]
     },
     "metadata": {},
     "output_type": "display_data"
    }
   ],
   "source": [
    "import matplotlib.pyplot as plt\n",
    "\n",
    "plt.scatter(\n",
    "    merged_df[merged_df[\"RACE\"] == \"Black\"][\"share_drug_arrests\"],\n",
    "    merged_df[merged_df[\"RACE\"] == \"Black\"][\"share_violent_arrests\"],\n",
    "    s=10,\n",
    ")\n",
    "plt.plot([0, 0.7], [0, 0.7], color=\"red\")\n",
    "plt.xlabel(\"Share of drug arrests\")\n",
    "plt.ylabel(\"share of violent arrests\")\n",
    "plt.show()"
   ]
  },
  {
   "cell_type": "code",
   "execution_count": 24,
   "metadata": {},
   "outputs": [],
   "source": [
    "results[\"ex12_proportionate\"] = \"greater violent\""
   ]
  },
  {
   "cell_type": "code",
   "execution_count": 25,
   "metadata": {},
   "outputs": [],
   "source": [
    "assert set(results.keys()) == {\n",
    "    \"ex4_num_rows\",\n",
    "    \"ex5_collapsed_vars\",\n",
    "    \"ex7_alameda_1980_share_violent_arrestees_black\",\n",
    "    \"ex11_white_drug_share\",\n",
    "    \"ex11_black_drug_share\",\n",
    "    \"ex12_proportionate\",\n",
    "}"
   ]
  }
 ],
 "metadata": {
  "kernelspec": {
   "display_name": "Python 3.10.6 ('base')",
   "language": "python",
   "name": "python3"
  },
  "language_info": {
   "codemirror_mode": {
    "name": "ipython",
    "version": 3
   },
   "file_extension": ".py",
   "mimetype": "text/x-python",
   "name": "python",
   "nbconvert_exporter": "python",
   "pygments_lexer": "ipython3",
   "version": "3.11.5"
  },
  "vscode": {
   "interpreter": {
    "hash": "718fed28bf9f8c7851519acf2fb923cd655120b36de3b67253eeb0428bd33d2d"
   }
  }
 },
 "nbformat": 4,
 "nbformat_minor": 4
}
